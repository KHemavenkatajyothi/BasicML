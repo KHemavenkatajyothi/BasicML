{
  "nbformat": 4,
  "nbformat_minor": 0,
  "metadata": {
    "colab": {
      "name": "Easy programs.ipynb",
      "provenance": [],
      "collapsed_sections": [],
      "authorship_tag": "ABX9TyOLXZh1JIzJRVSIyKV2tM/N",
      "include_colab_link": true
    },
    "kernelspec": {
      "name": "python3",
      "display_name": "Python 3"
    },
    "language_info": {
      "name": "python"
    }
  },
  "cells": [
    {
      "cell_type": "markdown",
      "metadata": {
        "id": "view-in-github",
        "colab_type": "text"
      },
      "source": [
        "<a href=\"https://colab.research.google.com/github/KHemavenkatajyothi/BasicML/blob/main/Easy_programs.ipynb\" target=\"_parent\"><img src=\"https://colab.research.google.com/assets/colab-badge.svg\" alt=\"Open In Colab\"/></a>"
      ]
    },
    {
      "cell_type": "markdown",
      "metadata": {
        "id": "zEQR694V5JrX"
      },
      "source": [
        "# ***My First Notebook***"
      ]
    },
    {
      "cell_type": "markdown",
      "metadata": {
        "id": "m1M2h6v49kco"
      },
      "source": [
        "1.sum of two numbers"
      ]
    },
    {
      "cell_type": "code",
      "metadata": {
        "colab": {
          "base_uri": "https://localhost:8080/"
        },
        "id": "YqWKHRiz99Rh",
        "outputId": "b39f0d0d-a0ef-4c27-c21e-1775554fe7ad"
      },
      "source": [
        "a=int(input())\n",
        "b=int(input())\n",
        "c=a+b\n",
        "print(c)"
      ],
      "execution_count": null,
      "outputs": [
        {
          "output_type": "stream",
          "text": [
            "2\n",
            "3\n",
            "5\n"
          ],
          "name": "stdout"
        }
      ]
    },
    {
      "cell_type": "markdown",
      "metadata": {
        "id": "EcDA4uYWOh6c"
      },
      "source": [
        "whether the number is even or odd "
      ]
    },
    {
      "cell_type": "code",
      "metadata": {
        "id": "jJy7apgHO-AE",
        "colab": {
          "base_uri": "https://localhost:8080/"
        },
        "outputId": "6227ed03-8b51-457d-d5eb-c2ecc7e385ef"
      },
      "source": [
        "a=int(input())\n",
        "if a%2==0:\n",
        "  print(a,\"is even\")\n",
        "else:\n",
        "  print(a,\" is odd\")"
      ],
      "execution_count": null,
      "outputs": [
        {
          "output_type": "stream",
          "text": [
            "4\n",
            "4 is even\n"
          ],
          "name": "stdout"
        }
      ]
    },
    {
      "cell_type": "markdown",
      "metadata": {
        "id": "16enaBfARVK1"
      },
      "source": [
        "3.whether the number is positive or negative"
      ]
    },
    {
      "cell_type": "code",
      "metadata": {
        "colab": {
          "base_uri": "https://localhost:8080/"
        },
        "id": "hj_icooaRZrW",
        "outputId": "986776f1-5cb7-45dd-a827-4c33871a5f1a"
      },
      "source": [
        " \n",
        "a=int(input())\n",
        "if (a>0):\n",
        "   print(\"The given number is positive\")\n",
        "elif(a<0):\n",
        "   print(\"The given number is negative\")\n",
        "else:\n",
        "   print(\"The given number is neither positive not negative\")"
      ],
      "execution_count": null,
      "outputs": [
        {
          "output_type": "stream",
          "text": [
            "5\n",
            "The given number is positive\n"
          ],
          "name": "stdout"
        }
      ]
    }
  ]
}