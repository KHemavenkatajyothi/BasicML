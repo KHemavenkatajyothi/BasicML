{
  "nbformat": 4,
  "nbformat_minor": 0,
  "metadata": {
    "colab": {
      "name": "Untitled3.ipynb",
      "provenance": [],
      "collapsed_sections": [],
      "toc_visible": true,
      "authorship_tag": "ABX9TyMoExC0fplVKOhWPluSidC5",
      "include_colab_link": true
    },
    "kernelspec": {
      "name": "python3",
      "display_name": "Python 3"
    },
    "language_info": {
      "name": "python"
    }
  },
  "cells": [
    {
      "cell_type": "markdown",
      "metadata": {
        "id": "view-in-github",
        "colab_type": "text"
      },
      "source": [
        "<a href=\"https://colab.research.google.com/github/KHemavenkatajyothi/BasicML/blob/main/Untitled3.ipynb\" target=\"_parent\"><img src=\"https://colab.research.google.com/assets/colab-badge.svg\" alt=\"Open In Colab\"/></a>"
      ]
    },
    {
      "cell_type": "markdown",
      "metadata": {
        "id": "NS-4wFXU_KvF"
      },
      "source": [
        "IMPORTING LIBRARIES"
      ]
    },
    {
      "cell_type": "code",
      "metadata": {
        "id": "JBazbsTpAZgn"
      },
      "source": [
        "import numpy as np\n",
        "import pandas as pd\n",
        "from matplotlib import pyplot as plt\n",
        "import seaborn as sns"
      ],
      "execution_count": null,
      "outputs": []
    },
    {
      "cell_type": "markdown",
      "metadata": {
        "id": "SRSdiOFZA15P"
      },
      "source": [
        "UNDERSTANDING THE DATA "
      ]
    },
    {
      "cell_type": "code",
      "metadata": {
        "id": "Ki6EXyXUGk3A"
      },
      "source": [
        "data=pd.read_csv(\"Literacy Data 2011.csv\")"
      ],
      "execution_count": null,
      "outputs": []
    },
    {
      "cell_type": "code",
      "metadata": {
        "colab": {
          "base_uri": "https://localhost:8080/",
          "height": 206
        },
        "id": "IzNfU9rHGdTs",
        "outputId": "fba2ae2b-61fe-482b-c819-5f6849ff4184"
      },
      "source": [
        "data.head()"
      ],
      "execution_count": null,
      "outputs": [
        {
          "output_type": "execute_result",
          "data": {
            "text/html": [
              "<div>\n",
              "<style scoped>\n",
              "    .dataframe tbody tr th:only-of-type {\n",
              "        vertical-align: middle;\n",
              "    }\n",
              "\n",
              "    .dataframe tbody tr th {\n",
              "        vertical-align: top;\n",
              "    }\n",
              "\n",
              "    .dataframe thead th {\n",
              "        text-align: right;\n",
              "    }\n",
              "</style>\n",
              "<table border=\"1\" class=\"dataframe\">\n",
              "  <thead>\n",
              "    <tr style=\"text-align: right;\">\n",
              "      <th></th>\n",
              "      <th>Unnamed: 0</th>\n",
              "      <th>District</th>\n",
              "      <th>State</th>\n",
              "      <th>Literacy</th>\n",
              "    </tr>\n",
              "  </thead>\n",
              "  <tbody>\n",
              "    <tr>\n",
              "      <th>0</th>\n",
              "      <td>1</td>\n",
              "      <td>Thane</td>\n",
              "      <td>Maharashtra</td>\n",
              "      <td>84.53</td>\n",
              "    </tr>\n",
              "    <tr>\n",
              "      <th>1</th>\n",
              "      <td>2</td>\n",
              "      <td>North Twenty Four Parganas</td>\n",
              "      <td>West Bengal</td>\n",
              "      <td>84.06</td>\n",
              "    </tr>\n",
              "    <tr>\n",
              "      <th>2</th>\n",
              "      <td>3</td>\n",
              "      <td>Bangalore</td>\n",
              "      <td>Karnataka</td>\n",
              "      <td>87.67</td>\n",
              "    </tr>\n",
              "    <tr>\n",
              "      <th>3</th>\n",
              "      <td>4</td>\n",
              "      <td>Pune</td>\n",
              "      <td>Maharashtra</td>\n",
              "      <td>86.15</td>\n",
              "    </tr>\n",
              "    <tr>\n",
              "      <th>4</th>\n",
              "      <td>5</td>\n",
              "      <td>Mumbai Suburban</td>\n",
              "      <td>Maharashtra</td>\n",
              "      <td>89.91</td>\n",
              "    </tr>\n",
              "  </tbody>\n",
              "</table>\n",
              "</div>"
            ],
            "text/plain": [
              "   Unnamed: 0                     District         State  Literacy\n",
              "0           1                        Thane   Maharashtra     84.53\n",
              "1           2   North Twenty Four Parganas   West Bengal     84.06\n",
              "2           3                    Bangalore     Karnataka     87.67\n",
              "3           4                         Pune   Maharashtra     86.15\n",
              "4           5              Mumbai Suburban   Maharashtra     89.91"
            ]
          },
          "metadata": {},
          "execution_count": 8
        }
      ]
    },
    {
      "cell_type": "code",
      "metadata": {
        "colab": {
          "base_uri": "https://localhost:8080/",
          "height": 206
        },
        "id": "GcIWNeIxG7LS",
        "outputId": "3b0b4da4-e4c7-40b1-c127-c6ee1fbddf1a"
      },
      "source": [
        "data.tail()"
      ],
      "execution_count": null,
      "outputs": [
        {
          "output_type": "execute_result",
          "data": {
            "text/html": [
              "<div>\n",
              "<style scoped>\n",
              "    .dataframe tbody tr th:only-of-type {\n",
              "        vertical-align: middle;\n",
              "    }\n",
              "\n",
              "    .dataframe tbody tr th {\n",
              "        vertical-align: top;\n",
              "    }\n",
              "\n",
              "    .dataframe thead th {\n",
              "        text-align: right;\n",
              "    }\n",
              "</style>\n",
              "<table border=\"1\" class=\"dataframe\">\n",
              "  <thead>\n",
              "    <tr style=\"text-align: right;\">\n",
              "      <th></th>\n",
              "      <th>Unnamed: 0</th>\n",
              "      <th>District</th>\n",
              "      <th>State</th>\n",
              "      <th>Literacy</th>\n",
              "    </tr>\n",
              "  </thead>\n",
              "  <tbody>\n",
              "    <tr>\n",
              "      <th>635</th>\n",
              "      <td>636</td>\n",
              "      <td>Nicobars</td>\n",
              "      <td>Andaman And Nicobar Islands</td>\n",
              "      <td>78.06</td>\n",
              "    </tr>\n",
              "    <tr>\n",
              "      <th>636</th>\n",
              "      <td>637</td>\n",
              "      <td>Upper Siang</td>\n",
              "      <td>Arunachal Pradesh</td>\n",
              "      <td>59.99</td>\n",
              "    </tr>\n",
              "    <tr>\n",
              "      <th>637</th>\n",
              "      <td>638</td>\n",
              "      <td>Lahul and Spiti</td>\n",
              "      <td>Himachal Pradesh</td>\n",
              "      <td>76.81</td>\n",
              "    </tr>\n",
              "    <tr>\n",
              "      <th>638</th>\n",
              "      <td>639</td>\n",
              "      <td>Anjaw</td>\n",
              "      <td>Arunachal Pradesh</td>\n",
              "      <td>56.46</td>\n",
              "    </tr>\n",
              "    <tr>\n",
              "      <th>639</th>\n",
              "      <td>640</td>\n",
              "      <td>Dibang Valley</td>\n",
              "      <td>Arunachal Pradesh</td>\n",
              "      <td>64.10</td>\n",
              "    </tr>\n",
              "  </tbody>\n",
              "</table>\n",
              "</div>"
            ],
            "text/plain": [
              "     Unnamed: 0          District                         State  Literacy\n",
              "635         636          Nicobars   Andaman And Nicobar Islands     78.06\n",
              "636         637       Upper Siang             Arunachal Pradesh     59.99\n",
              "637         638   Lahul and Spiti              Himachal Pradesh     76.81\n",
              "638         639             Anjaw             Arunachal Pradesh     56.46\n",
              "639         640     Dibang Valley             Arunachal Pradesh     64.10"
            ]
          },
          "metadata": {},
          "execution_count": 9
        }
      ]
    },
    {
      "cell_type": "code",
      "metadata": {
        "colab": {
          "base_uri": "https://localhost:8080/"
        },
        "id": "HGGckyk0HBUb",
        "outputId": "80dc95c0-55f0-4ef9-f834-8461f0ec1128"
      },
      "source": [
        "data.shape"
      ],
      "execution_count": null,
      "outputs": [
        {
          "output_type": "execute_result",
          "data": {
            "text/plain": [
              "(640, 4)"
            ]
          },
          "metadata": {},
          "execution_count": 10
        }
      ]
    },
    {
      "cell_type": "code",
      "metadata": {
        "colab": {
          "base_uri": "https://localhost:8080/",
          "height": 300
        },
        "id": "tLV_A8WhHE_i",
        "outputId": "b396826c-e9a9-4d75-b85f-c7cd0be84675"
      },
      "source": [
        "data.describe()"
      ],
      "execution_count": null,
      "outputs": [
        {
          "output_type": "execute_result",
          "data": {
            "text/html": [
              "<div>\n",
              "<style scoped>\n",
              "    .dataframe tbody tr th:only-of-type {\n",
              "        vertical-align: middle;\n",
              "    }\n",
              "\n",
              "    .dataframe tbody tr th {\n",
              "        vertical-align: top;\n",
              "    }\n",
              "\n",
              "    .dataframe thead th {\n",
              "        text-align: right;\n",
              "    }\n",
              "</style>\n",
              "<table border=\"1\" class=\"dataframe\">\n",
              "  <thead>\n",
              "    <tr style=\"text-align: right;\">\n",
              "      <th></th>\n",
              "      <th>Unnamed: 0</th>\n",
              "      <th>Literacy</th>\n",
              "    </tr>\n",
              "  </thead>\n",
              "  <tbody>\n",
              "    <tr>\n",
              "      <th>count</th>\n",
              "      <td>640.000000</td>\n",
              "      <td>640.000000</td>\n",
              "    </tr>\n",
              "    <tr>\n",
              "      <th>mean</th>\n",
              "      <td>320.500000</td>\n",
              "      <td>72.308422</td>\n",
              "    </tr>\n",
              "    <tr>\n",
              "      <th>std</th>\n",
              "      <td>184.896367</td>\n",
              "      <td>10.488816</td>\n",
              "    </tr>\n",
              "    <tr>\n",
              "      <th>min</th>\n",
              "      <td>1.000000</td>\n",
              "      <td>36.100000</td>\n",
              "    </tr>\n",
              "    <tr>\n",
              "      <th>25%</th>\n",
              "      <td>160.750000</td>\n",
              "      <td>65.095000</td>\n",
              "    </tr>\n",
              "    <tr>\n",
              "      <th>50%</th>\n",
              "      <td>320.500000</td>\n",
              "      <td>72.170000</td>\n",
              "    </tr>\n",
              "    <tr>\n",
              "      <th>75%</th>\n",
              "      <td>480.250000</td>\n",
              "      <td>79.962500</td>\n",
              "    </tr>\n",
              "    <tr>\n",
              "      <th>max</th>\n",
              "      <td>640.000000</td>\n",
              "      <td>97.910000</td>\n",
              "    </tr>\n",
              "  </tbody>\n",
              "</table>\n",
              "</div>"
            ],
            "text/plain": [
              "       Unnamed: 0    Literacy\n",
              "count  640.000000  640.000000\n",
              "mean   320.500000   72.308422\n",
              "std    184.896367   10.488816\n",
              "min      1.000000   36.100000\n",
              "25%    160.750000   65.095000\n",
              "50%    320.500000   72.170000\n",
              "75%    480.250000   79.962500\n",
              "max    640.000000   97.910000"
            ]
          },
          "metadata": {},
          "execution_count": 11
        }
      ]
    },
    {
      "cell_type": "code",
      "metadata": {
        "colab": {
          "base_uri": "https://localhost:8080/"
        },
        "id": "pt4F6K8tHLXS",
        "outputId": "5cfa9381-f1f8-4047-ebf1-4144afcda628"
      },
      "source": [
        "data.info()"
      ],
      "execution_count": null,
      "outputs": [
        {
          "output_type": "stream",
          "name": "stdout",
          "text": [
            "<class 'pandas.core.frame.DataFrame'>\n",
            "RangeIndex: 640 entries, 0 to 639\n",
            "Data columns (total 4 columns):\n",
            " #   Column      Non-Null Count  Dtype  \n",
            "---  ------      --------------  -----  \n",
            " 0   Unnamed: 0  640 non-null    int64  \n",
            " 1   District    640 non-null    object \n",
            " 2   State       640 non-null    object \n",
            " 3   Literacy    640 non-null    float64\n",
            "dtypes: float64(1), int64(1), object(2)\n",
            "memory usage: 20.1+ KB\n"
          ]
        }
      ]
    },
    {
      "cell_type": "code",
      "metadata": {
        "colab": {
          "base_uri": "https://localhost:8080/"
        },
        "id": "J09-fOQYHi6k",
        "outputId": "3afd0185-9c15-4aa0-d68a-8f3cc2ddcc7b"
      },
      "source": [
        "data['State'].value_counts()"
      ],
      "execution_count": null,
      "outputs": [
        {
          "output_type": "execute_result",
          "data": {
            "text/plain": [
              " Uttar Pradesh                  71\n",
              " Madhya Pradesh                 50\n",
              " Bihar                          38\n",
              " Maharashtra                    35\n",
              " Rajasthan                      33\n",
              " Tamil Nadu                     32\n",
              " Orissa                         30\n",
              " Karnataka                      30\n",
              " Assam                          27\n",
              " Gujarat                        26\n",
              " Jharkhand                      24\n",
              " Andhra Pradesh                 23\n",
              " Jammu and Kashmir              22\n",
              " Haryana                        21\n",
              " Punjab                         20\n",
              " West Bengal                    19\n",
              " Chhattisgarh                   18\n",
              " Arunachal Pradesh              16\n",
              " Kerala                         14\n",
              " Uttarakhand                    13\n",
              " Himachal Pradesh               12\n",
              " Nagaland                       11\n",
              " Manipur                         9\n",
              " Delhi                           9\n",
              " Mizoram                         8\n",
              " Meghalaya                       7\n",
              " Tripura                         4\n",
              " Puducherry                      4\n",
              " Sikkim                          4\n",
              " Andaman And Nicobar Islands     3\n",
              " Daman and Diu                   2\n",
              " Goa                             2\n",
              " Dadra and Nagar Haveli          1\n",
              " Chandigarh                      1\n",
              " Lakshadweep                     1\n",
              "Name: State, dtype: int64"
            ]
          },
          "metadata": {},
          "execution_count": 14
        }
      ]
    },
    {
      "cell_type": "code",
      "metadata": {
        "colab": {
          "base_uri": "https://localhost:8080/"
        },
        "id": "40Od6r82Hxsw",
        "outputId": "a776ada9-dfc7-470e-d5c5-74f63e1bf966"
      },
      "source": [
        "data['State'].value_counts()[0:9]"
      ],
      "execution_count": null,
      "outputs": [
        {
          "output_type": "execute_result",
          "data": {
            "text/plain": [
              " Uttar Pradesh     71\n",
              " Madhya Pradesh    50\n",
              " Bihar             38\n",
              " Maharashtra       35\n",
              " Rajasthan         33\n",
              " Tamil Nadu        32\n",
              " Orissa            30\n",
              " Karnataka         30\n",
              " Assam             27\n",
              "Name: State, dtype: int64"
            ]
          },
          "metadata": {},
          "execution_count": 15
        }
      ]
    },
    {
      "cell_type": "code",
      "metadata": {
        "colab": {
          "base_uri": "https://localhost:8080/",
          "height": 423
        },
        "id": "GjDiJ6Z7IbtL",
        "outputId": "94ed0c26-5061-4038-a5eb-08c52de27327"
      },
      "source": [
        "data= data.sort_values(by=['Literacy'],ascending=False)\n",
        "data"
      ],
      "execution_count": null,
      "outputs": [
        {
          "output_type": "execute_result",
          "data": {
            "text/html": [
              "<div>\n",
              "<style scoped>\n",
              "    .dataframe tbody tr th:only-of-type {\n",
              "        vertical-align: middle;\n",
              "    }\n",
              "\n",
              "    .dataframe tbody tr th {\n",
              "        vertical-align: top;\n",
              "    }\n",
              "\n",
              "    .dataframe thead th {\n",
              "        text-align: right;\n",
              "    }\n",
              "</style>\n",
              "<table border=\"1\" class=\"dataframe\">\n",
              "  <thead>\n",
              "    <tr style=\"text-align: right;\">\n",
              "      <th></th>\n",
              "      <th>Unnamed: 0</th>\n",
              "      <th>District</th>\n",
              "      <th>State</th>\n",
              "      <th>Literacy</th>\n",
              "    </tr>\n",
              "  </thead>\n",
              "  <tbody>\n",
              "    <tr>\n",
              "      <th>625</th>\n",
              "      <td>626</td>\n",
              "      <td>Serchhip</td>\n",
              "      <td>Mizoram</td>\n",
              "      <td>97.91</td>\n",
              "    </tr>\n",
              "    <tr>\n",
              "      <th>557</th>\n",
              "      <td>558</td>\n",
              "      <td>Aizawl</td>\n",
              "      <td>Mizoram</td>\n",
              "      <td>97.89</td>\n",
              "    </tr>\n",
              "    <tr>\n",
              "      <th>634</th>\n",
              "      <td>635</td>\n",
              "      <td>Mahe</td>\n",
              "      <td>Puducherry</td>\n",
              "      <td>97.87</td>\n",
              "    </tr>\n",
              "    <tr>\n",
              "      <th>233</th>\n",
              "      <td>234</td>\n",
              "      <td>Kottayam</td>\n",
              "      <td>Kerala</td>\n",
              "      <td>97.21</td>\n",
              "    </tr>\n",
              "    <tr>\n",
              "      <th>397</th>\n",
              "      <td>398</td>\n",
              "      <td>Pathanamthitta</td>\n",
              "      <td>Kerala</td>\n",
              "      <td>96.55</td>\n",
              "    </tr>\n",
              "    <tr>\n",
              "      <th>...</th>\n",
              "      <td>...</td>\n",
              "      <td>...</td>\n",
              "      <td>...</td>\n",
              "      <td>...</td>\n",
              "    </tr>\n",
              "    <tr>\n",
              "      <th>391</th>\n",
              "      <td>392</td>\n",
              "      <td>Nabarangapur</td>\n",
              "      <td>Orissa</td>\n",
              "      <td>46.43</td>\n",
              "    </tr>\n",
              "    <tr>\n",
              "      <th>439</th>\n",
              "      <td>440</td>\n",
              "      <td>Jhabua</td>\n",
              "      <td>Madhya Pradesh</td>\n",
              "      <td>43.30</td>\n",
              "    </tr>\n",
              "    <tr>\n",
              "      <th>539</th>\n",
              "      <td>540</td>\n",
              "      <td>Dantewada</td>\n",
              "      <td>Chhattisgarh</td>\n",
              "      <td>42.12</td>\n",
              "    </tr>\n",
              "    <tr>\n",
              "      <th>580</th>\n",
              "      <td>581</td>\n",
              "      <td>Bijapur</td>\n",
              "      <td>Chhattisgarh</td>\n",
              "      <td>40.86</td>\n",
              "    </tr>\n",
              "    <tr>\n",
              "      <th>497</th>\n",
              "      <td>498</td>\n",
              "      <td>Alirajpur</td>\n",
              "      <td>Madhya Pradesh</td>\n",
              "      <td>36.10</td>\n",
              "    </tr>\n",
              "  </tbody>\n",
              "</table>\n",
              "<p>640 rows × 4 columns</p>\n",
              "</div>"
            ],
            "text/plain": [
              "     Unnamed: 0         District            State  Literacy\n",
              "625         626         Serchhip          Mizoram     97.91\n",
              "557         558           Aizawl          Mizoram     97.89\n",
              "634         635             Mahe       Puducherry     97.87\n",
              "233         234         Kottayam           Kerala     97.21\n",
              "397         398   Pathanamthitta           Kerala     96.55\n",
              "..          ...              ...              ...       ...\n",
              "391         392     Nabarangapur           Orissa     46.43\n",
              "439         440           Jhabua   Madhya Pradesh     43.30\n",
              "539         540        Dantewada     Chhattisgarh     42.12\n",
              "580         581          Bijapur     Chhattisgarh     40.86\n",
              "497         498        Alirajpur   Madhya Pradesh     36.10\n",
              "\n",
              "[640 rows x 4 columns]"
            ]
          },
          "metadata": {},
          "execution_count": 17
        }
      ]
    },
    {
      "cell_type": "code",
      "metadata": {
        "colab": {
          "base_uri": "https://localhost:8080/",
          "height": 676
        },
        "id": "mFQ_mUQ0JK7t",
        "outputId": "d18ffd65-ca30-4b7e-afb3-c64523957f1a"
      },
      "source": [
        "Data=data.head(20)\n",
        "Data"
      ],
      "execution_count": null,
      "outputs": [
        {
          "output_type": "execute_result",
          "data": {
            "text/html": [
              "<div>\n",
              "<style scoped>\n",
              "    .dataframe tbody tr th:only-of-type {\n",
              "        vertical-align: middle;\n",
              "    }\n",
              "\n",
              "    .dataframe tbody tr th {\n",
              "        vertical-align: top;\n",
              "    }\n",
              "\n",
              "    .dataframe thead th {\n",
              "        text-align: right;\n",
              "    }\n",
              "</style>\n",
              "<table border=\"1\" class=\"dataframe\">\n",
              "  <thead>\n",
              "    <tr style=\"text-align: right;\">\n",
              "      <th></th>\n",
              "      <th>Unnamed: 0</th>\n",
              "      <th>District</th>\n",
              "      <th>State</th>\n",
              "      <th>Literacy</th>\n",
              "    </tr>\n",
              "  </thead>\n",
              "  <tbody>\n",
              "    <tr>\n",
              "      <th>625</th>\n",
              "      <td>626</td>\n",
              "      <td>Serchhip</td>\n",
              "      <td>Mizoram</td>\n",
              "      <td>97.91</td>\n",
              "    </tr>\n",
              "    <tr>\n",
              "      <th>557</th>\n",
              "      <td>558</td>\n",
              "      <td>Aizawl</td>\n",
              "      <td>Mizoram</td>\n",
              "      <td>97.89</td>\n",
              "    </tr>\n",
              "    <tr>\n",
              "      <th>634</th>\n",
              "      <td>635</td>\n",
              "      <td>Mahe</td>\n",
              "      <td>Puducherry</td>\n",
              "      <td>97.87</td>\n",
              "    </tr>\n",
              "    <tr>\n",
              "      <th>233</th>\n",
              "      <td>234</td>\n",
              "      <td>Kottayam</td>\n",
              "      <td>Kerala</td>\n",
              "      <td>97.21</td>\n",
              "    </tr>\n",
              "    <tr>\n",
              "      <th>397</th>\n",
              "      <td>398</td>\n",
              "      <td>Pathanamthitta</td>\n",
              "      <td>Kerala</td>\n",
              "      <td>96.55</td>\n",
              "    </tr>\n",
              "    <tr>\n",
              "      <th>609</th>\n",
              "      <td>610</td>\n",
              "      <td>Champhai</td>\n",
              "      <td>Mizoram</td>\n",
              "      <td>95.91</td>\n",
              "    </tr>\n",
              "    <tr>\n",
              "      <th>103</th>\n",
              "      <td>104</td>\n",
              "      <td>Ernakulam</td>\n",
              "      <td>Kerala</td>\n",
              "      <td>95.89</td>\n",
              "    </tr>\n",
              "    <tr>\n",
              "      <th>214</th>\n",
              "      <td>215</td>\n",
              "      <td>Alappuzha</td>\n",
              "      <td>Kerala</td>\n",
              "      <td>95.72</td>\n",
              "    </tr>\n",
              "    <tr>\n",
              "      <th>169</th>\n",
              "      <td>170</td>\n",
              "      <td>Kannur</td>\n",
              "      <td>Kerala</td>\n",
              "      <td>95.10</td>\n",
              "    </tr>\n",
              "    <tr>\n",
              "      <th>109</th>\n",
              "      <td>110</td>\n",
              "      <td>Thrissur</td>\n",
              "      <td>Kerala</td>\n",
              "      <td>95.08</td>\n",
              "    </tr>\n",
              "    <tr>\n",
              "      <th>113</th>\n",
              "      <td>114</td>\n",
              "      <td>Kozhikode</td>\n",
              "      <td>Kerala</td>\n",
              "      <td>95.08</td>\n",
              "    </tr>\n",
              "    <tr>\n",
              "      <th>152</th>\n",
              "      <td>153</td>\n",
              "      <td>Kollam</td>\n",
              "      <td>Kerala</td>\n",
              "      <td>94.09</td>\n",
              "    </tr>\n",
              "    <tr>\n",
              "      <th>49</th>\n",
              "      <td>50</td>\n",
              "      <td>Malappuram</td>\n",
              "      <td>Kerala</td>\n",
              "      <td>93.57</td>\n",
              "    </tr>\n",
              "    <tr>\n",
              "      <th>619</th>\n",
              "      <td>620</td>\n",
              "      <td>Kolasib</td>\n",
              "      <td>Mizoram</td>\n",
              "      <td>93.50</td>\n",
              "    </tr>\n",
              "    <tr>\n",
              "      <th>102</th>\n",
              "      <td>103</td>\n",
              "      <td>Thiruvananthapuram</td>\n",
              "      <td>Kerala</td>\n",
              "      <td>93.02</td>\n",
              "    </tr>\n",
              "    <tr>\n",
              "      <th>415</th>\n",
              "      <td>416</td>\n",
              "      <td>Idukki</td>\n",
              "      <td>Kerala</td>\n",
              "      <td>91.99</td>\n",
              "    </tr>\n",
              "    <tr>\n",
              "      <th>626</th>\n",
              "      <td>627</td>\n",
              "      <td>Lakshadweep</td>\n",
              "      <td>Lakshadweep</td>\n",
              "      <td>91.85</td>\n",
              "    </tr>\n",
              "    <tr>\n",
              "      <th>252</th>\n",
              "      <td>253</td>\n",
              "      <td>Kanniyakumari</td>\n",
              "      <td>Tamil Nadu</td>\n",
              "      <td>91.75</td>\n",
              "    </tr>\n",
              "    <tr>\n",
              "      <th>590</th>\n",
              "      <td>591</td>\n",
              "      <td>Mokokchung</td>\n",
              "      <td>Nagaland</td>\n",
              "      <td>91.62</td>\n",
              "    </tr>\n",
              "    <tr>\n",
              "      <th>28</th>\n",
              "      <td>29</td>\n",
              "      <td>Chennai</td>\n",
              "      <td>Tamil Nadu</td>\n",
              "      <td>90.18</td>\n",
              "    </tr>\n",
              "  </tbody>\n",
              "</table>\n",
              "</div>"
            ],
            "text/plain": [
              "     Unnamed: 0             District         State  Literacy\n",
              "625         626             Serchhip       Mizoram     97.91\n",
              "557         558               Aizawl       Mizoram     97.89\n",
              "634         635                 Mahe    Puducherry     97.87\n",
              "233         234             Kottayam        Kerala     97.21\n",
              "397         398       Pathanamthitta        Kerala     96.55\n",
              "609         610             Champhai       Mizoram     95.91\n",
              "103         104            Ernakulam        Kerala     95.89\n",
              "214         215            Alappuzha        Kerala     95.72\n",
              "169         170               Kannur        Kerala     95.10\n",
              "109         110             Thrissur        Kerala     95.08\n",
              "113         114            Kozhikode        Kerala     95.08\n",
              "152         153               Kollam        Kerala     94.09\n",
              "49           50           Malappuram        Kerala     93.57\n",
              "619         620              Kolasib       Mizoram     93.50\n",
              "102         103   Thiruvananthapuram        Kerala     93.02\n",
              "415         416               Idukki        Kerala     91.99\n",
              "626         627          Lakshadweep   Lakshadweep     91.85\n",
              "252         253        Kanniyakumari    Tamil Nadu     91.75\n",
              "590         591           Mokokchung      Nagaland     91.62\n",
              "28           29              Chennai    Tamil Nadu     90.18"
            ]
          },
          "metadata": {},
          "execution_count": 18
        }
      ]
    },
    {
      "cell_type": "code",
      "metadata": {
        "colab": {
          "base_uri": "https://localhost:8080/",
          "height": 362
        },
        "id": "nY4laarmJs1V",
        "outputId": "46bc5af2-4fa0-470b-bf4e-3bd96d732689"
      },
      "source": [
        "Data2=data.head(10)\n",
        "Data2"
      ],
      "execution_count": null,
      "outputs": [
        {
          "output_type": "execute_result",
          "data": {
            "text/html": [
              "<div>\n",
              "<style scoped>\n",
              "    .dataframe tbody tr th:only-of-type {\n",
              "        vertical-align: middle;\n",
              "    }\n",
              "\n",
              "    .dataframe tbody tr th {\n",
              "        vertical-align: top;\n",
              "    }\n",
              "\n",
              "    .dataframe thead th {\n",
              "        text-align: right;\n",
              "    }\n",
              "</style>\n",
              "<table border=\"1\" class=\"dataframe\">\n",
              "  <thead>\n",
              "    <tr style=\"text-align: right;\">\n",
              "      <th></th>\n",
              "      <th>Unnamed: 0</th>\n",
              "      <th>District</th>\n",
              "      <th>State</th>\n",
              "      <th>Literacy</th>\n",
              "    </tr>\n",
              "  </thead>\n",
              "  <tbody>\n",
              "    <tr>\n",
              "      <th>625</th>\n",
              "      <td>626</td>\n",
              "      <td>Serchhip</td>\n",
              "      <td>Mizoram</td>\n",
              "      <td>97.91</td>\n",
              "    </tr>\n",
              "    <tr>\n",
              "      <th>557</th>\n",
              "      <td>558</td>\n",
              "      <td>Aizawl</td>\n",
              "      <td>Mizoram</td>\n",
              "      <td>97.89</td>\n",
              "    </tr>\n",
              "    <tr>\n",
              "      <th>634</th>\n",
              "      <td>635</td>\n",
              "      <td>Mahe</td>\n",
              "      <td>Puducherry</td>\n",
              "      <td>97.87</td>\n",
              "    </tr>\n",
              "    <tr>\n",
              "      <th>233</th>\n",
              "      <td>234</td>\n",
              "      <td>Kottayam</td>\n",
              "      <td>Kerala</td>\n",
              "      <td>97.21</td>\n",
              "    </tr>\n",
              "    <tr>\n",
              "      <th>397</th>\n",
              "      <td>398</td>\n",
              "      <td>Pathanamthitta</td>\n",
              "      <td>Kerala</td>\n",
              "      <td>96.55</td>\n",
              "    </tr>\n",
              "    <tr>\n",
              "      <th>609</th>\n",
              "      <td>610</td>\n",
              "      <td>Champhai</td>\n",
              "      <td>Mizoram</td>\n",
              "      <td>95.91</td>\n",
              "    </tr>\n",
              "    <tr>\n",
              "      <th>103</th>\n",
              "      <td>104</td>\n",
              "      <td>Ernakulam</td>\n",
              "      <td>Kerala</td>\n",
              "      <td>95.89</td>\n",
              "    </tr>\n",
              "    <tr>\n",
              "      <th>214</th>\n",
              "      <td>215</td>\n",
              "      <td>Alappuzha</td>\n",
              "      <td>Kerala</td>\n",
              "      <td>95.72</td>\n",
              "    </tr>\n",
              "    <tr>\n",
              "      <th>169</th>\n",
              "      <td>170</td>\n",
              "      <td>Kannur</td>\n",
              "      <td>Kerala</td>\n",
              "      <td>95.10</td>\n",
              "    </tr>\n",
              "    <tr>\n",
              "      <th>109</th>\n",
              "      <td>110</td>\n",
              "      <td>Thrissur</td>\n",
              "      <td>Kerala</td>\n",
              "      <td>95.08</td>\n",
              "    </tr>\n",
              "  </tbody>\n",
              "</table>\n",
              "</div>"
            ],
            "text/plain": [
              "     Unnamed: 0         District        State  Literacy\n",
              "625         626         Serchhip      Mizoram     97.91\n",
              "557         558           Aizawl      Mizoram     97.89\n",
              "634         635             Mahe   Puducherry     97.87\n",
              "233         234         Kottayam       Kerala     97.21\n",
              "397         398   Pathanamthitta       Kerala     96.55\n",
              "609         610         Champhai      Mizoram     95.91\n",
              "103         104        Ernakulam       Kerala     95.89\n",
              "214         215        Alappuzha       Kerala     95.72\n",
              "169         170           Kannur       Kerala     95.10\n",
              "109         110         Thrissur       Kerala     95.08"
            ]
          },
          "metadata": {},
          "execution_count": 19
        }
      ]
    },
    {
      "cell_type": "markdown",
      "metadata": {
        "id": "OktzdzZHJ5j5"
      },
      "source": [
        "CLEANING THE DATA"
      ]
    },
    {
      "cell_type": "code",
      "metadata": {
        "colab": {
          "base_uri": "https://localhost:8080/"
        },
        "id": "ZvQewE41J_yW",
        "outputId": "0ef01381-ca9d-4981-d6d6-805126ebb4c7"
      },
      "source": [
        "data.isnull().sum()"
      ],
      "execution_count": null,
      "outputs": [
        {
          "output_type": "execute_result",
          "data": {
            "text/plain": [
              "Unnamed: 0    0\n",
              "District      0\n",
              "State         0\n",
              "Literacy      0\n",
              "dtype: int64"
            ]
          },
          "metadata": {},
          "execution_count": 20
        }
      ]
    },
    {
      "cell_type": "code",
      "metadata": {
        "colab": {
          "base_uri": "https://localhost:8080/"
        },
        "id": "_0SCpTELKI3G",
        "outputId": "ae0a28c9-0139-4cf4-d98b-35503e10f8e7"
      },
      "source": [
        "data.duplicated()"
      ],
      "execution_count": null,
      "outputs": [
        {
          "output_type": "execute_result",
          "data": {
            "text/plain": [
              "625    False\n",
              "557    False\n",
              "634    False\n",
              "233    False\n",
              "397    False\n",
              "       ...  \n",
              "391    False\n",
              "439    False\n",
              "539    False\n",
              "580    False\n",
              "497    False\n",
              "Length: 640, dtype: bool"
            ]
          },
          "metadata": {},
          "execution_count": 21
        }
      ]
    },
    {
      "cell_type": "markdown",
      "metadata": {
        "id": "79NLtGZ_KOh-"
      },
      "source": [
        "DATA VISUALIZATION"
      ]
    },
    {
      "cell_type": "code",
      "metadata": {
        "colab": {
          "base_uri": "https://localhost:8080/",
          "height": 336
        },
        "id": "q9rH2tdULvEv",
        "outputId": "acb09c84-437d-4986-8a94-5ad2f1020f9e"
      },
      "source": [
        "plt.figure(figsize=(8,5))\n",
        "plt.bar(list(data[\"State\"].value_counts()[0:10].keys()),list(data[\"State\"].value_counts()[0:10]),color='g')\n",
        "plt.title('BAR GRAPH')\n",
        "plt.grid(True)\n",
        "plt.show()"
      ],
      "execution_count": null,
      "outputs": [
        {
          "output_type": "display_data",
          "data": {
            "image/png": "[encoded data removed]",
            "text/plain": [
              "<Figure size 576x360 with 1 Axes>"
            ]
          },
          "metadata": {
            "needs_background": "light"
          }
        }
      ]
    },
    {
      "cell_type": "code",
      "metadata": {
        "colab": {
          "base_uri": "https://localhost:8080/",
          "height": 281
        },
        "id": "SUqFgwQ_M-Wy",
        "outputId": "4ac4962f-af44-4afc-9a0f-58f6fa4e3646"
      },
      "source": [
        "plt.hist(Data['Literacy'],bins=10,color='r')\n",
        "plt.title('HISTOGRAM')\n",
        "plt.show()"
      ],
      "execution_count": null,
      "outputs": [
        {
          "output_type": "display_data",
          "data": {
            "image/png": "[encoded data removed]",
            "text/plain": [
              "<Figure size 432x288 with 1 Axes>"
            ]
          },
          "metadata": {
            "needs_background": "light"
          }
        }
      ]
    },
    {
      "cell_type": "code",
      "metadata": {
        "colab": {
          "base_uri": "https://localhost:8080/",
          "height": 295
        },
        "id": "D_Cx8qzpN1AL",
        "outputId": "f3330238-f2b6-4362-a694-8adf10fd3421"
      },
      "source": [
        "sns.lineplot(data=Data,x='District',y='Literacy')\n",
        "plt.title('LINE PLOT')\n",
        "plt.show()\n"
      ],
      "execution_count": null,
      "outputs": [
        {
          "output_type": "display_data",
          "data": {
            "image/png": "[encoded data removed]",
            "text/plain": [
              "<Figure size 432x288 with 1 Axes>"
            ]
          },
          "metadata": {
            "needs_background": "light"
          }
        }
      ]
    },
    {
      "cell_type": "code",
      "metadata": {
        "id": "RQmh42f9O1Aa"
      },
      "source": [
        "plt.figure(figsize=(5,5))\n",
        "plt.scatter(data=Data,x='State',y='Literacy',marker='.,c=''g',s=100"
      ],
      "execution_count": null,
      "outputs": []
    },
    {
      "cell_type": "code",
      "metadata": {
        "colab": {
          "base_uri": "https://localhost:8080/",
          "height": 336
        },
        "id": "C2nTkA4vP43_",
        "outputId": "13f769a4-b1a0-449d-c54f-e427f3db7e71"
      },
      "source": [
        "plt.figure(figsize=(5,5))\n",
        "plt.scatter(data=Data,x='State',y='Literacy',marker='.',c='g',s=100)\n",
        "plt.title('SCATTER GRAPH')\n",
        "plt.show()k\n"
      ],
      "execution_count": null,
      "outputs": [
        {
          "output_type": "display_data",
          "data": {
            "image/png": "[encoded data removed]",
            "text/plain": [
              "<Figure size 360x360 with 1 Axes>"
            ]
          },
          "metadata": {
            "needs_background": "light"
          }
        }
      ]
    },
    {
      "cell_type": "markdown",
      "metadata": {
        "id": "tOvc4y6dQ3zQ"
      },
      "source": [
        "SPLITTING THE DATA"
      ]
    },
    {
      "cell_type": "code",
      "metadata": {
        "id": "7dLSGv6rRCek"
      },
      "source": [
        "from sklearn import datasets \n",
        "from sklearn.model_selection import train_test_split\n",
        "import sklearn.model_selection as model_selection"
      ],
      "execution_count": null,
      "outputs": []
    },
    {
      "cell_type": "code",
      "metadata": {
        "id": "mXfXItJBRpSL"
      },
      "source": [
        "X=data.iloc[1:,0:2].values"
      ],
      "execution_count": null,
      "outputs": []
    },
    {
      "cell_type": "code",
      "metadata": {
        "id": "ia1JVXCQR_Bv"
      },
      "source": [
        "Y=data.iloc[1:,2]"
      ],
      "execution_count": null,
      "outputs": []
    },
    {
      "cell_type": "code",
      "metadata": {
        "id": "f3ojT6GXSGl4"
      },
      "source": [
        "X_train,X_test,Y_train,Y_test=train_test_split(X,Y,test_size=0.2,random_state=1)\n"
      ],
      "execution_count": null,
      "outputs": []
    },
    {
      "cell_type": "code",
      "metadata": {
        "colab": {
          "base_uri": "https://localhost:8080/"
        },
        "id": "ofUZcomUSgcJ",
        "outputId": "6a03a07d-560a-48bf-af91-49b6257fd507"
      },
      "source": [
        "X_train"
      ],
      "execution_count": null,
      "outputs": [
        {
          "output_type": "execute_result",
          "data": {
            "text/plain": [
              "array([[579, ' Champawat'],\n",
              "       [249, ' Bagalkot'],\n",
              "       [378, ' Sirsa'],\n",
              "       ...,\n",
              "       [564, ' Dimapur'],\n",
              "       [17, ' Rangareddy'],\n",
              "       [262, ' Akola']], dtype=object)"
            ]
          },
          "metadata": {},
          "execution_count": 52
        }
      ]
    },
    {
      "cell_type": "code",
      "metadata": {
        "id": "IkZMJvmTSgHc",
        "colab": {
          "base_uri": "https://localhost:8080/"
        },
        "outputId": "f6626c7d-2d11-4cba-d9c0-5eaac1970bfb"
      },
      "source": [
        "X_test"
      ],
      "execution_count": null,
      "outputs": [
        {
          "output_type": "execute_result",
          "data": {
            "text/plain": [
              "array([[232, ' Jhansi'],\n",
              "       [611, ' Lawngtlai'],\n",
              "       [148, ' Maharajganj'],\n",
              "       [97, ' Rae Bareli'],\n",
              "       [337, ' Deoghar'],\n",
              "       [559, ' Jaintia Hills'],\n",
              "       [432, ' Mandla'],\n",
              "       [143, ' Adilabad'],\n",
              "       [394, ' Korba'],\n",
              "       [542, ' Sirmaur'],\n",
              "       [571, ' Debagarh'],\n",
              "       [39, ' Bareilly'],\n",
              "       [166, ' Bharatpur'],\n",
              "       [293, ' Kishanganj'],\n",
              "       [540, ' Dantewada'],\n",
              "       [222, ' Bokaro'],\n",
              "       [576, ' Kohima'],\n",
              "       [119, ' Madurai'],\n",
              "       [303, ' Nandurbar'],\n",
              "       [285, ' Buxar'],\n",
              "       [103, ' Thiruvananthapuram'],\n",
              "       [508, ' Jaisalmer'],\n",
              "       [11, ' Nashik'],\n",
              "       [284, ' East Delhi'],\n",
              "       [548, ' Senapati'],\n",
              "       [44, ' Visakhapatnam'],\n",
              "       [56, ' Kheri'],\n",
              "       [453, ' Nayagarh'],\n",
              "       [291, ' Dehradun'],\n",
              "       [26, ' Moradabad'],\n",
              "       [427, ' Saraikela Kharsawan'],\n",
              "       [260, ' Jalor'],\n",
              "       [319, ' Mahamaya Nagar'],\n",
              "       [82, ' Ganjam'],\n",
              "       [154, ' Raigarh'],\n",
              "       [452, ' Kurukshetra'],\n",
              "       [174, ' Amritsar'],\n",
              "       [606, ' Tamenglong'],\n",
              "       [429, ' Karur'],\n",
              "       [503, ' North Tripura'],\n",
              "       [108, ' Ballia'],\n",
              "       [530, ' Central Delhi'],\n",
              "       [573, ' Ramban'],\n",
              "       [535, ' Perambalur'],\n",
              "       [574, ' East Sikkim'],\n",
              "       [157, ' Cuddalore'],\n",
              "       [201, ' Khordha'],\n",
              "       [405, ' Rajsamand'],\n",
              "       [444, ' Baramula'],\n",
              "       [383, ' Chikkaballapura'],\n",
              "       [331, ' Kangra'],\n",
              "       [413, ' Tarn Taran'],\n",
              "       [68, ' Sultanpur'],\n",
              "       [194, ' Rampur'],\n",
              "       [91, ' Saharanpur'],\n",
              "       [199, ' South West Delhi'],\n",
              "       [622, ' Upper Subansiri'],\n",
              "       [200, ' Erode'],\n",
              "       [487, ' Datia'],\n",
              "       [549, ' Punch'],\n",
              "       [225, ' Pali'],\n",
              "       [206, ' Mau'],\n",
              "       [61, ' Darbhanga'],\n",
              "       [272, ' Chhattarpur'],\n",
              "       [324, ' Rajnandgaon'],\n",
              "       [558, ' Aizawl'],\n",
              "       [477, ' Neemuch'],\n",
              "       [14, ' Paschim Medinipur'],\n",
              "       [502, ' Arwal'],\n",
              "       [36, ' Jaunpur'],\n",
              "       [501, ' Dindori'],\n",
              "       [197, ' Gurdaspur'],\n",
              "       [423, ' Kaithal'],\n",
              "       [93, ' Coimbatore'],\n",
              "       [509, ' Hailakandi'],\n",
              "       [345, ' Uttara Kannada'],\n",
              "       [605, ' Zunheboto'],\n",
              "       [50, ' Malappuram'],\n",
              "       [632, ' Longleng'],\n",
              "       [562, ' West Khasi Hills'],\n",
              "       [361, ' Mandsaur'],\n",
              "       [193, ' Vizianagaram'],\n",
              "       [101, ' Siwan'],\n",
              "       [318, ' Betul'],\n",
              "       [38, ' Sitapur'],\n",
              "       [281, ' Shivpuri'],\n",
              "       [229, ' Pilibhit'],\n",
              "       [208, ' Jalandhar'],\n",
              "       [191, ' Bikaner'],\n",
              "       [443, ' Goalpara'],\n",
              "       [409, ' Jagatsinghapur'],\n",
              "       [63, ' Vellore'],\n",
              "       [446, ' Mandi'],\n",
              "       [489, ' Mansa'],\n",
              "       [373, ' Sehore'],\n",
              "       [66, ' Jalpaiguri'],\n",
              "       [265, ' Kendujhar'],\n",
              "       [342, ' Sonipat'],\n",
              "       [426, ' Shahdol'],\n",
              "       [392, ' Nabarangapur'],\n",
              "       [449, ' Chitrakoot'],\n",
              "       [348, ' Bastar'],\n",
              "       [288, ' Bhind'],\n",
              "       [240, ' Dhubri'],\n",
              "       [369, ' Garhwa'],\n",
              "       [219, ' Kachchh'],\n",
              "       [141, ' Yavatmal'],\n",
              "       [585, ' Bishnupur'],\n",
              "       [156, ' Cuttack'],\n",
              "       [315, ' Etawah'],\n",
              "       [428, ' Gadag'],\n",
              "       [169, ' Aurangabad'],\n",
              "       [447, ' Moga'],\n",
              "       [528, ' Narmada'],\n",
              "       [433, ' Chatra'],\n",
              "       [251, ' Krishnagiri'],\n",
              "       [490, ' Burhanpur'],\n",
              "       [591, ' Mokokchung'],\n",
              "       [107, ' Barabanki'],\n",
              "       [364, ' Jind'],\n",
              "       [474, ' Sindhudurg'],\n",
              "       [414, ' Shrawasti'],\n",
              "       [457, ' Nainital'],\n",
              "       [587, ' The Dangs'],\n",
              "       [87, ' Vaishali'],\n",
              "       [384, ' Kamrup Metropolitan'],\n",
              "       [223, ' Dhule'],\n",
              "       [136, ' Sangli']], dtype=object)"
            ]
          },
          "metadata": {},
          "execution_count": 51
        }
      ]
    },
    {
      "cell_type": "code",
      "metadata": {
        "colab": {
          "base_uri": "https://localhost:8080/"
        },
        "id": "-7LWUo5ET2a5",
        "outputId": "8cf03ace-cbc8-431a-9e11-b3f2d7178b4a"
      },
      "source": [
        "Y_train"
      ],
      "execution_count": null,
      "outputs": [
        {
          "output_type": "execute_result",
          "data": {
            "text/plain": [
              "578        Uttarakhand\n",
              "248          Karnataka\n",
              "377            Haryana\n",
              "528            Gujarat\n",
              "52        Chhattisgarh\n",
              "            ...       \n",
              "15         West Bengal\n",
              "358         Tamil Nadu\n",
              "563           Nagaland\n",
              "16      Andhra Pradesh\n",
              "261        Maharashtra\n",
              "Name: State, Length: 511, dtype: object"
            ]
          },
          "metadata": {},
          "execution_count": 53
        }
      ]
    },
    {
      "cell_type": "code",
      "metadata": {
        "colab": {
          "base_uri": "https://localhost:8080/"
        },
        "id": "q1JReywJT60m",
        "outputId": "8452f3a3-c802-4b83-894c-db16b445bc6f"
      },
      "source": [
        "Y_test"
      ],
      "execution_count": null,
      "outputs": [
        {
          "output_type": "execute_result",
          "data": {
            "text/plain": [
              "231     Uttar Pradesh\n",
              "610           Mizoram\n",
              "147     Uttar Pradesh\n",
              "96      Uttar Pradesh\n",
              "336         Jharkhand\n",
              "            ...      \n",
              "586           Gujarat\n",
              "86              Bihar\n",
              "383             Assam\n",
              "222       Maharashtra\n",
              "135       Maharashtra\n",
              "Name: State, Length: 128, dtype: object"
            ]
          },
          "metadata": {},
          "execution_count": 54
        }
      ]
    },
    {
      "cell_type": "markdown",
      "metadata": {
        "id": "xnwi8PnBUFeb"
      },
      "source": [
        "MACHINE LEARNING MODELS"
      ]
    },
    {
      "cell_type": "code",
      "metadata": {
        "id": "t0sih2DuZnM-"
      },
      "source": [
        "mat=pd.read_csv('student-mat-pass-or-fail.csv')\n"
      ],
      "execution_count": null,
      "outputs": []
    },
    {
      "cell_type": "code",
      "metadata": {
        "colab": {
          "base_uri": "https://localhost:8080/",
          "height": 226
        },
        "id": "cShB2ia3aXm0",
        "outputId": "63b84b35-ae65-43c9-9364-d10846a7163e"
      },
      "source": [
        "mat.head()"
      ],
      "execution_count": null,
      "outputs": [
        {
          "output_type": "execute_result",
          "data": {
            "text/html": [
              "<div>\n",
              "<style scoped>\n",
              "    .dataframe tbody tr th:only-of-type {\n",
              "        vertical-align: middle;\n",
              "    }\n",
              "\n",
              "    .dataframe tbody tr th {\n",
              "        vertical-align: top;\n",
              "    }\n",
              "\n",
              "    .dataframe thead th {\n",
              "        text-align: right;\n",
              "    }\n",
              "</style>\n",
              "<table border=\"1\" class=\"dataframe\">\n",
              "  <thead>\n",
              "    <tr style=\"text-align: right;\">\n",
              "      <th></th>\n",
              "      <th>school</th>\n",
              "      <th>sex</th>\n",
              "      <th>age</th>\n",
              "      <th>address</th>\n",
              "      <th>famsize</th>\n",
              "      <th>Pstatus</th>\n",
              "      <th>Medu</th>\n",
              "      <th>Fedu</th>\n",
              "      <th>traveltime</th>\n",
              "      <th>studytime</th>\n",
              "      <th>failures</th>\n",
              "      <th>schoolsup</th>\n",
              "      <th>famsup</th>\n",
              "      <th>paid</th>\n",
              "      <th>activities</th>\n",
              "      <th>nursery</th>\n",
              "      <th>higher</th>\n",
              "      <th>internet</th>\n",
              "      <th>romantic</th>\n",
              "      <th>famrel</th>\n",
              "      <th>freetime</th>\n",
              "      <th>goout</th>\n",
              "      <th>Dalc</th>\n",
              "      <th>Walc</th>\n",
              "      <th>health</th>\n",
              "      <th>absences</th>\n",
              "      <th>G1</th>\n",
              "      <th>G2</th>\n",
              "      <th>G3</th>\n",
              "      <th>pass</th>\n",
              "    </tr>\n",
              "  </thead>\n",
              "  <tbody>\n",
              "    <tr>\n",
              "      <th>0</th>\n",
              "      <td>1</td>\n",
              "      <td>1</td>\n",
              "      <td>18</td>\n",
              "      <td>1</td>\n",
              "      <td>0</td>\n",
              "      <td>0</td>\n",
              "      <td>4</td>\n",
              "      <td>4</td>\n",
              "      <td>2</td>\n",
              "      <td>2</td>\n",
              "      <td>0</td>\n",
              "      <td>1</td>\n",
              "      <td>0</td>\n",
              "      <td>0</td>\n",
              "      <td>0</td>\n",
              "      <td>1</td>\n",
              "      <td>1</td>\n",
              "      <td>0</td>\n",
              "      <td>0</td>\n",
              "      <td>4</td>\n",
              "      <td>3</td>\n",
              "      <td>4</td>\n",
              "      <td>1</td>\n",
              "      <td>1</td>\n",
              "      <td>3</td>\n",
              "      <td>6</td>\n",
              "      <td>5</td>\n",
              "      <td>6</td>\n",
              "      <td>6</td>\n",
              "      <td>0</td>\n",
              "    </tr>\n",
              "    <tr>\n",
              "      <th>1</th>\n",
              "      <td>1</td>\n",
              "      <td>1</td>\n",
              "      <td>17</td>\n",
              "      <td>1</td>\n",
              "      <td>0</td>\n",
              "      <td>1</td>\n",
              "      <td>1</td>\n",
              "      <td>1</td>\n",
              "      <td>1</td>\n",
              "      <td>2</td>\n",
              "      <td>0</td>\n",
              "      <td>0</td>\n",
              "      <td>1</td>\n",
              "      <td>0</td>\n",
              "      <td>0</td>\n",
              "      <td>0</td>\n",
              "      <td>1</td>\n",
              "      <td>1</td>\n",
              "      <td>0</td>\n",
              "      <td>5</td>\n",
              "      <td>3</td>\n",
              "      <td>3</td>\n",
              "      <td>1</td>\n",
              "      <td>1</td>\n",
              "      <td>3</td>\n",
              "      <td>4</td>\n",
              "      <td>5</td>\n",
              "      <td>5</td>\n",
              "      <td>6</td>\n",
              "      <td>0</td>\n",
              "    </tr>\n",
              "    <tr>\n",
              "      <th>2</th>\n",
              "      <td>1</td>\n",
              "      <td>1</td>\n",
              "      <td>15</td>\n",
              "      <td>1</td>\n",
              "      <td>1</td>\n",
              "      <td>1</td>\n",
              "      <td>1</td>\n",
              "      <td>1</td>\n",
              "      <td>1</td>\n",
              "      <td>2</td>\n",
              "      <td>3</td>\n",
              "      <td>1</td>\n",
              "      <td>0</td>\n",
              "      <td>1</td>\n",
              "      <td>0</td>\n",
              "      <td>1</td>\n",
              "      <td>1</td>\n",
              "      <td>1</td>\n",
              "      <td>0</td>\n",
              "      <td>4</td>\n",
              "      <td>3</td>\n",
              "      <td>2</td>\n",
              "      <td>2</td>\n",
              "      <td>3</td>\n",
              "      <td>3</td>\n",
              "      <td>10</td>\n",
              "      <td>7</td>\n",
              "      <td>8</td>\n",
              "      <td>10</td>\n",
              "      <td>1</td>\n",
              "    </tr>\n",
              "    <tr>\n",
              "      <th>3</th>\n",
              "      <td>1</td>\n",
              "      <td>1</td>\n",
              "      <td>15</td>\n",
              "      <td>1</td>\n",
              "      <td>0</td>\n",
              "      <td>1</td>\n",
              "      <td>4</td>\n",
              "      <td>2</td>\n",
              "      <td>1</td>\n",
              "      <td>3</td>\n",
              "      <td>0</td>\n",
              "      <td>0</td>\n",
              "      <td>1</td>\n",
              "      <td>1</td>\n",
              "      <td>1</td>\n",
              "      <td>1</td>\n",
              "      <td>1</td>\n",
              "      <td>1</td>\n",
              "      <td>1</td>\n",
              "      <td>3</td>\n",
              "      <td>2</td>\n",
              "      <td>2</td>\n",
              "      <td>1</td>\n",
              "      <td>1</td>\n",
              "      <td>5</td>\n",
              "      <td>2</td>\n",
              "      <td>15</td>\n",
              "      <td>14</td>\n",
              "      <td>15</td>\n",
              "      <td>1</td>\n",
              "    </tr>\n",
              "    <tr>\n",
              "      <th>4</th>\n",
              "      <td>1</td>\n",
              "      <td>1</td>\n",
              "      <td>16</td>\n",
              "      <td>1</td>\n",
              "      <td>0</td>\n",
              "      <td>1</td>\n",
              "      <td>3</td>\n",
              "      <td>3</td>\n",
              "      <td>1</td>\n",
              "      <td>2</td>\n",
              "      <td>0</td>\n",
              "      <td>0</td>\n",
              "      <td>1</td>\n",
              "      <td>1</td>\n",
              "      <td>0</td>\n",
              "      <td>1</td>\n",
              "      <td>1</td>\n",
              "      <td>0</td>\n",
              "      <td>0</td>\n",
              "      <td>4</td>\n",
              "      <td>3</td>\n",
              "      <td>2</td>\n",
              "      <td>1</td>\n",
              "      <td>2</td>\n",
              "      <td>5</td>\n",
              "      <td>4</td>\n",
              "      <td>6</td>\n",
              "      <td>10</td>\n",
              "      <td>10</td>\n",
              "      <td>1</td>\n",
              "    </tr>\n",
              "  </tbody>\n",
              "</table>\n",
              "</div>"
            ],
            "text/plain": [
              "   school  sex  age  address  famsize  ...  absences  G1  G2  G3  pass\n",
              "0       1    1   18        1        0  ...         6   5   6   6     0\n",
              "1       1    1   17        1        0  ...         4   5   5   6     0\n",
              "2       1    1   15        1        1  ...        10   7   8  10     1\n",
              "3       1    1   15        1        0  ...         2  15  14  15     1\n",
              "4       1    1   16        1        0  ...         4   6  10  10     1\n",
              "\n",
              "[5 rows x 30 columns]"
            ]
          },
          "metadata": {},
          "execution_count": 56
        }
      ]
    },
    {
      "cell_type": "code",
      "metadata": {
        "colab": {
          "base_uri": "https://localhost:8080/",
          "height": 226
        },
        "id": "yQvusAC4amvg",
        "outputId": "f780f421-109b-471b-9057-c7ba7b29900c"
      },
      "source": [
        "mat.tail()"
      ],
      "execution_count": null,
      "outputs": [
        {
          "output_type": "execute_result",
          "data": {
            "text/html": [
              "<div>\n",
              "<style scoped>\n",
              "    .dataframe tbody tr th:only-of-type {\n",
              "        vertical-align: middle;\n",
              "    }\n",
              "\n",
              "    .dataframe tbody tr th {\n",
              "        vertical-align: top;\n",
              "    }\n",
              "\n",
              "    .dataframe thead th {\n",
              "        text-align: right;\n",
              "    }\n",
              "</style>\n",
              "<table border=\"1\" class=\"dataframe\">\n",
              "  <thead>\n",
              "    <tr style=\"text-align: right;\">\n",
              "      <th></th>\n",
              "      <th>school</th>\n",
              "      <th>sex</th>\n",
              "      <th>age</th>\n",
              "      <th>address</th>\n",
              "      <th>famsize</th>\n",
              "      <th>Pstatus</th>\n",
              "      <th>Medu</th>\n",
              "      <th>Fedu</th>\n",
              "      <th>traveltime</th>\n",
              "      <th>studytime</th>\n",
              "      <th>failures</th>\n",
              "      <th>schoolsup</th>\n",
              "      <th>famsup</th>\n",
              "      <th>paid</th>\n",
              "      <th>activities</th>\n",
              "      <th>nursery</th>\n",
              "      <th>higher</th>\n",
              "      <th>internet</th>\n",
              "      <th>romantic</th>\n",
              "      <th>famrel</th>\n",
              "      <th>freetime</th>\n",
              "      <th>goout</th>\n",
              "      <th>Dalc</th>\n",
              "      <th>Walc</th>\n",
              "      <th>health</th>\n",
              "      <th>absences</th>\n",
              "      <th>G1</th>\n",
              "      <th>G2</th>\n",
              "      <th>G3</th>\n",
              "      <th>pass</th>\n",
              "    </tr>\n",
              "  </thead>\n",
              "  <tbody>\n",
              "    <tr>\n",
              "      <th>390</th>\n",
              "      <td>0</td>\n",
              "      <td>0</td>\n",
              "      <td>20</td>\n",
              "      <td>1</td>\n",
              "      <td>1</td>\n",
              "      <td>0</td>\n",
              "      <td>2</td>\n",
              "      <td>2</td>\n",
              "      <td>1</td>\n",
              "      <td>2</td>\n",
              "      <td>2</td>\n",
              "      <td>0</td>\n",
              "      <td>1</td>\n",
              "      <td>1</td>\n",
              "      <td>0</td>\n",
              "      <td>1</td>\n",
              "      <td>1</td>\n",
              "      <td>0</td>\n",
              "      <td>0</td>\n",
              "      <td>5</td>\n",
              "      <td>5</td>\n",
              "      <td>4</td>\n",
              "      <td>4</td>\n",
              "      <td>5</td>\n",
              "      <td>4</td>\n",
              "      <td>11</td>\n",
              "      <td>9</td>\n",
              "      <td>9</td>\n",
              "      <td>9</td>\n",
              "      <td>0</td>\n",
              "    </tr>\n",
              "    <tr>\n",
              "      <th>391</th>\n",
              "      <td>0</td>\n",
              "      <td>0</td>\n",
              "      <td>17</td>\n",
              "      <td>1</td>\n",
              "      <td>1</td>\n",
              "      <td>1</td>\n",
              "      <td>3</td>\n",
              "      <td>1</td>\n",
              "      <td>2</td>\n",
              "      <td>1</td>\n",
              "      <td>0</td>\n",
              "      <td>0</td>\n",
              "      <td>0</td>\n",
              "      <td>0</td>\n",
              "      <td>0</td>\n",
              "      <td>0</td>\n",
              "      <td>1</td>\n",
              "      <td>1</td>\n",
              "      <td>0</td>\n",
              "      <td>2</td>\n",
              "      <td>4</td>\n",
              "      <td>5</td>\n",
              "      <td>3</td>\n",
              "      <td>4</td>\n",
              "      <td>2</td>\n",
              "      <td>3</td>\n",
              "      <td>14</td>\n",
              "      <td>16</td>\n",
              "      <td>16</td>\n",
              "      <td>1</td>\n",
              "    </tr>\n",
              "    <tr>\n",
              "      <th>392</th>\n",
              "      <td>0</td>\n",
              "      <td>0</td>\n",
              "      <td>21</td>\n",
              "      <td>0</td>\n",
              "      <td>0</td>\n",
              "      <td>1</td>\n",
              "      <td>1</td>\n",
              "      <td>1</td>\n",
              "      <td>1</td>\n",
              "      <td>1</td>\n",
              "      <td>3</td>\n",
              "      <td>0</td>\n",
              "      <td>0</td>\n",
              "      <td>0</td>\n",
              "      <td>0</td>\n",
              "      <td>0</td>\n",
              "      <td>1</td>\n",
              "      <td>0</td>\n",
              "      <td>0</td>\n",
              "      <td>5</td>\n",
              "      <td>5</td>\n",
              "      <td>3</td>\n",
              "      <td>3</td>\n",
              "      <td>3</td>\n",
              "      <td>3</td>\n",
              "      <td>3</td>\n",
              "      <td>10</td>\n",
              "      <td>8</td>\n",
              "      <td>7</td>\n",
              "      <td>0</td>\n",
              "    </tr>\n",
              "    <tr>\n",
              "      <th>393</th>\n",
              "      <td>0</td>\n",
              "      <td>0</td>\n",
              "      <td>18</td>\n",
              "      <td>0</td>\n",
              "      <td>1</td>\n",
              "      <td>1</td>\n",
              "      <td>3</td>\n",
              "      <td>2</td>\n",
              "      <td>3</td>\n",
              "      <td>1</td>\n",
              "      <td>0</td>\n",
              "      <td>0</td>\n",
              "      <td>0</td>\n",
              "      <td>0</td>\n",
              "      <td>0</td>\n",
              "      <td>0</td>\n",
              "      <td>1</td>\n",
              "      <td>1</td>\n",
              "      <td>0</td>\n",
              "      <td>4</td>\n",
              "      <td>4</td>\n",
              "      <td>1</td>\n",
              "      <td>3</td>\n",
              "      <td>4</td>\n",
              "      <td>5</td>\n",
              "      <td>0</td>\n",
              "      <td>11</td>\n",
              "      <td>12</td>\n",
              "      <td>10</td>\n",
              "      <td>1</td>\n",
              "    </tr>\n",
              "    <tr>\n",
              "      <th>394</th>\n",
              "      <td>0</td>\n",
              "      <td>0</td>\n",
              "      <td>19</td>\n",
              "      <td>1</td>\n",
              "      <td>1</td>\n",
              "      <td>1</td>\n",
              "      <td>1</td>\n",
              "      <td>1</td>\n",
              "      <td>1</td>\n",
              "      <td>1</td>\n",
              "      <td>0</td>\n",
              "      <td>0</td>\n",
              "      <td>0</td>\n",
              "      <td>0</td>\n",
              "      <td>0</td>\n",
              "      <td>1</td>\n",
              "      <td>1</td>\n",
              "      <td>1</td>\n",
              "      <td>0</td>\n",
              "      <td>3</td>\n",
              "      <td>2</td>\n",
              "      <td>3</td>\n",
              "      <td>3</td>\n",
              "      <td>3</td>\n",
              "      <td>5</td>\n",
              "      <td>5</td>\n",
              "      <td>8</td>\n",
              "      <td>9</td>\n",
              "      <td>9</td>\n",
              "      <td>0</td>\n",
              "    </tr>\n",
              "  </tbody>\n",
              "</table>\n",
              "</div>"
            ],
            "text/plain": [
              "     school  sex  age  address  famsize  ...  absences  G1  G2  G3  pass\n",
              "390       0    0   20        1        1  ...        11   9   9   9     0\n",
              "391       0    0   17        1        1  ...         3  14  16  16     1\n",
              "392       0    0   21        0        0  ...         3  10   8   7     0\n",
              "393       0    0   18        0        1  ...         0  11  12  10     1\n",
              "394       0    0   19        1        1  ...         5   8   9   9     0\n",
              "\n",
              "[5 rows x 30 columns]"
            ]
          },
          "metadata": {},
          "execution_count": 57
        }
      ]
    },
    {
      "cell_type": "code",
      "metadata": {
        "colab": {
          "base_uri": "https://localhost:8080/"
        },
        "id": "h5O1VbEgar0r",
        "outputId": "5cadf558-c9c3-401b-9c33-f4def91e5da8"
      },
      "source": [
        "mat.shape"
      ],
      "execution_count": null,
      "outputs": [
        {
          "output_type": "execute_result",
          "data": {
            "text/plain": [
              "(395, 30)"
            ]
          },
          "metadata": {},
          "execution_count": 58
        }
      ]
    },
    {
      "cell_type": "code",
      "metadata": {
        "colab": {
          "base_uri": "https://localhost:8080/",
          "height": 320
        },
        "id": "QwoorXRGawC0",
        "outputId": "272b9f67-acba-4f7d-f98c-30fb9076eb32"
      },
      "source": [
        "mat.describe()"
      ],
      "execution_count": null,
      "outputs": [
        {
          "output_type": "execute_result",
          "data": {
            "text/html": [
              "<div>\n",
              "<style scoped>\n",
              "    .dataframe tbody tr th:only-of-type {\n",
              "        vertical-align: middle;\n",
              "    }\n",
              "\n",
              "    .dataframe tbody tr th {\n",
              "        vertical-align: top;\n",
              "    }\n",
              "\n",
              "    .dataframe thead th {\n",
              "        text-align: right;\n",
              "    }\n",
              "</style>\n",
              "<table border=\"1\" class=\"dataframe\">\n",
              "  <thead>\n",
              "    <tr style=\"text-align: right;\">\n",
              "      <th></th>\n",
              "      <th>school</th>\n",
              "      <th>sex</th>\n",
              "      <th>age</th>\n",
              "      <th>address</th>\n",
              "      <th>famsize</th>\n",
              "      <th>Pstatus</th>\n",
              "      <th>Medu</th>\n",
              "      <th>Fedu</th>\n",
              "      <th>traveltime</th>\n",
              "      <th>studytime</th>\n",
              "      <th>failures</th>\n",
              "      <th>schoolsup</th>\n",
              "      <th>famsup</th>\n",
              "      <th>paid</th>\n",
              "      <th>activities</th>\n",
              "      <th>nursery</th>\n",
              "      <th>higher</th>\n",
              "      <th>internet</th>\n",
              "      <th>romantic</th>\n",
              "      <th>famrel</th>\n",
              "      <th>freetime</th>\n",
              "      <th>goout</th>\n",
              "      <th>Dalc</th>\n",
              "      <th>Walc</th>\n",
              "      <th>health</th>\n",
              "      <th>absences</th>\n",
              "      <th>G1</th>\n",
              "      <th>G2</th>\n",
              "      <th>G3</th>\n",
              "      <th>pass</th>\n",
              "    </tr>\n",
              "  </thead>\n",
              "  <tbody>\n",
              "    <tr>\n",
              "      <th>count</th>\n",
              "      <td>395.000000</td>\n",
              "      <td>395.000000</td>\n",
              "      <td>395.000000</td>\n",
              "      <td>395.000000</td>\n",
              "      <td>395.000000</td>\n",
              "      <td>395.000000</td>\n",
              "      <td>395.000000</td>\n",
              "      <td>395.000000</td>\n",
              "      <td>395.000000</td>\n",
              "      <td>395.000000</td>\n",
              "      <td>395.000000</td>\n",
              "      <td>395.000000</td>\n",
              "      <td>395.000000</td>\n",
              "      <td>395.000000</td>\n",
              "      <td>395.000000</td>\n",
              "      <td>395.000000</td>\n",
              "      <td>395.000000</td>\n",
              "      <td>395.000000</td>\n",
              "      <td>395.000000</td>\n",
              "      <td>395.000000</td>\n",
              "      <td>395.000000</td>\n",
              "      <td>395.000000</td>\n",
              "      <td>395.000000</td>\n",
              "      <td>395.000000</td>\n",
              "      <td>395.000000</td>\n",
              "      <td>395.000000</td>\n",
              "      <td>395.000000</td>\n",
              "      <td>395.000000</td>\n",
              "      <td>395.000000</td>\n",
              "      <td>395.000000</td>\n",
              "    </tr>\n",
              "    <tr>\n",
              "      <th>mean</th>\n",
              "      <td>0.883544</td>\n",
              "      <td>0.526582</td>\n",
              "      <td>16.696203</td>\n",
              "      <td>0.777215</td>\n",
              "      <td>0.288608</td>\n",
              "      <td>0.896203</td>\n",
              "      <td>2.749367</td>\n",
              "      <td>2.521519</td>\n",
              "      <td>1.448101</td>\n",
              "      <td>2.035443</td>\n",
              "      <td>0.334177</td>\n",
              "      <td>0.129114</td>\n",
              "      <td>0.612658</td>\n",
              "      <td>0.458228</td>\n",
              "      <td>0.508861</td>\n",
              "      <td>0.794937</td>\n",
              "      <td>0.949367</td>\n",
              "      <td>0.832911</td>\n",
              "      <td>0.334177</td>\n",
              "      <td>3.944304</td>\n",
              "      <td>3.235443</td>\n",
              "      <td>3.108861</td>\n",
              "      <td>1.481013</td>\n",
              "      <td>2.291139</td>\n",
              "      <td>3.554430</td>\n",
              "      <td>5.708861</td>\n",
              "      <td>10.908861</td>\n",
              "      <td>10.713924</td>\n",
              "      <td>10.415190</td>\n",
              "      <td>0.670886</td>\n",
              "    </tr>\n",
              "    <tr>\n",
              "      <th>std</th>\n",
              "      <td>0.321177</td>\n",
              "      <td>0.499926</td>\n",
              "      <td>1.276043</td>\n",
              "      <td>0.416643</td>\n",
              "      <td>0.453690</td>\n",
              "      <td>0.305384</td>\n",
              "      <td>1.094735</td>\n",
              "      <td>1.088201</td>\n",
              "      <td>0.697505</td>\n",
              "      <td>0.839240</td>\n",
              "      <td>0.743651</td>\n",
              "      <td>0.335751</td>\n",
              "      <td>0.487761</td>\n",
              "      <td>0.498884</td>\n",
              "      <td>0.500555</td>\n",
              "      <td>0.404260</td>\n",
              "      <td>0.219525</td>\n",
              "      <td>0.373528</td>\n",
              "      <td>0.472300</td>\n",
              "      <td>0.896659</td>\n",
              "      <td>0.998862</td>\n",
              "      <td>1.113278</td>\n",
              "      <td>0.890741</td>\n",
              "      <td>1.287897</td>\n",
              "      <td>1.390303</td>\n",
              "      <td>8.003096</td>\n",
              "      <td>3.319195</td>\n",
              "      <td>3.761505</td>\n",
              "      <td>4.581443</td>\n",
              "      <td>0.470487</td>\n",
              "    </tr>\n",
              "    <tr>\n",
              "      <th>min</th>\n",
              "      <td>0.000000</td>\n",
              "      <td>0.000000</td>\n",
              "      <td>15.000000</td>\n",
              "      <td>0.000000</td>\n",
              "      <td>0.000000</td>\n",
              "      <td>0.000000</td>\n",
              "      <td>0.000000</td>\n",
              "      <td>0.000000</td>\n",
              "      <td>1.000000</td>\n",
              "      <td>1.000000</td>\n",
              "      <td>0.000000</td>\n",
              "      <td>0.000000</td>\n",
              "      <td>0.000000</td>\n",
              "      <td>0.000000</td>\n",
              "      <td>0.000000</td>\n",
              "      <td>0.000000</td>\n",
              "      <td>0.000000</td>\n",
              "      <td>0.000000</td>\n",
              "      <td>0.000000</td>\n",
              "      <td>1.000000</td>\n",
              "      <td>1.000000</td>\n",
              "      <td>1.000000</td>\n",
              "      <td>1.000000</td>\n",
              "      <td>1.000000</td>\n",
              "      <td>1.000000</td>\n",
              "      <td>0.000000</td>\n",
              "      <td>3.000000</td>\n",
              "      <td>0.000000</td>\n",
              "      <td>0.000000</td>\n",
              "      <td>0.000000</td>\n",
              "    </tr>\n",
              "    <tr>\n",
              "      <th>25%</th>\n",
              "      <td>1.000000</td>\n",
              "      <td>0.000000</td>\n",
              "      <td>16.000000</td>\n",
              "      <td>1.000000</td>\n",
              "      <td>0.000000</td>\n",
              "      <td>1.000000</td>\n",
              "      <td>2.000000</td>\n",
              "      <td>2.000000</td>\n",
              "      <td>1.000000</td>\n",
              "      <td>1.000000</td>\n",
              "      <td>0.000000</td>\n",
              "      <td>0.000000</td>\n",
              "      <td>0.000000</td>\n",
              "      <td>0.000000</td>\n",
              "      <td>0.000000</td>\n",
              "      <td>1.000000</td>\n",
              "      <td>1.000000</td>\n",
              "      <td>1.000000</td>\n",
              "      <td>0.000000</td>\n",
              "      <td>4.000000</td>\n",
              "      <td>3.000000</td>\n",
              "      <td>2.000000</td>\n",
              "      <td>1.000000</td>\n",
              "      <td>1.000000</td>\n",
              "      <td>3.000000</td>\n",
              "      <td>0.000000</td>\n",
              "      <td>8.000000</td>\n",
              "      <td>9.000000</td>\n",
              "      <td>8.000000</td>\n",
              "      <td>0.000000</td>\n",
              "    </tr>\n",
              "    <tr>\n",
              "      <th>50%</th>\n",
              "      <td>1.000000</td>\n",
              "      <td>1.000000</td>\n",
              "      <td>17.000000</td>\n",
              "      <td>1.000000</td>\n",
              "      <td>0.000000</td>\n",
              "      <td>1.000000</td>\n",
              "      <td>3.000000</td>\n",
              "      <td>2.000000</td>\n",
              "      <td>1.000000</td>\n",
              "      <td>2.000000</td>\n",
              "      <td>0.000000</td>\n",
              "      <td>0.000000</td>\n",
              "      <td>1.000000</td>\n",
              "      <td>0.000000</td>\n",
              "      <td>1.000000</td>\n",
              "      <td>1.000000</td>\n",
              "      <td>1.000000</td>\n",
              "      <td>1.000000</td>\n",
              "      <td>0.000000</td>\n",
              "      <td>4.000000</td>\n",
              "      <td>3.000000</td>\n",
              "      <td>3.000000</td>\n",
              "      <td>1.000000</td>\n",
              "      <td>2.000000</td>\n",
              "      <td>4.000000</td>\n",
              "      <td>4.000000</td>\n",
              "      <td>11.000000</td>\n",
              "      <td>11.000000</td>\n",
              "      <td>11.000000</td>\n",
              "      <td>1.000000</td>\n",
              "    </tr>\n",
              "    <tr>\n",
              "      <th>75%</th>\n",
              "      <td>1.000000</td>\n",
              "      <td>1.000000</td>\n",
              "      <td>18.000000</td>\n",
              "      <td>1.000000</td>\n",
              "      <td>1.000000</td>\n",
              "      <td>1.000000</td>\n",
              "      <td>4.000000</td>\n",
              "      <td>3.000000</td>\n",
              "      <td>2.000000</td>\n",
              "      <td>2.000000</td>\n",
              "      <td>0.000000</td>\n",
              "      <td>0.000000</td>\n",
              "      <td>1.000000</td>\n",
              "      <td>1.000000</td>\n",
              "      <td>1.000000</td>\n",
              "      <td>1.000000</td>\n",
              "      <td>1.000000</td>\n",
              "      <td>1.000000</td>\n",
              "      <td>1.000000</td>\n",
              "      <td>5.000000</td>\n",
              "      <td>4.000000</td>\n",
              "      <td>4.000000</td>\n",
              "      <td>2.000000</td>\n",
              "      <td>3.000000</td>\n",
              "      <td>5.000000</td>\n",
              "      <td>8.000000</td>\n",
              "      <td>13.000000</td>\n",
              "      <td>13.000000</td>\n",
              "      <td>14.000000</td>\n",
              "      <td>1.000000</td>\n",
              "    </tr>\n",
              "    <tr>\n",
              "      <th>max</th>\n",
              "      <td>1.000000</td>\n",
              "      <td>1.000000</td>\n",
              "      <td>22.000000</td>\n",
              "      <td>1.000000</td>\n",
              "      <td>1.000000</td>\n",
              "      <td>1.000000</td>\n",
              "      <td>4.000000</td>\n",
              "      <td>4.000000</td>\n",
              "      <td>4.000000</td>\n",
              "      <td>4.000000</td>\n",
              "      <td>3.000000</td>\n",
              "      <td>1.000000</td>\n",
              "      <td>1.000000</td>\n",
              "      <td>1.000000</td>\n",
              "      <td>1.000000</td>\n",
              "      <td>1.000000</td>\n",
              "      <td>1.000000</td>\n",
              "      <td>1.000000</td>\n",
              "      <td>1.000000</td>\n",
              "      <td>5.000000</td>\n",
              "      <td>5.000000</td>\n",
              "      <td>5.000000</td>\n",
              "      <td>5.000000</td>\n",
              "      <td>5.000000</td>\n",
              "      <td>5.000000</td>\n",
              "      <td>75.000000</td>\n",
              "      <td>19.000000</td>\n",
              "      <td>19.000000</td>\n",
              "      <td>20.000000</td>\n",
              "      <td>1.000000</td>\n",
              "    </tr>\n",
              "  </tbody>\n",
              "</table>\n",
              "</div>"
            ],
            "text/plain": [
              "           school         sex         age  ...          G2          G3        pass\n",
              "count  395.000000  395.000000  395.000000  ...  395.000000  395.000000  395.000000\n",
              "mean     0.883544    0.526582   16.696203  ...   10.713924   10.415190    0.670886\n",
              "std      0.321177    0.499926    1.276043  ...    3.761505    4.581443    0.470487\n",
              "min      0.000000    0.000000   15.000000  ...    0.000000    0.000000    0.000000\n",
              "25%      1.000000    0.000000   16.000000  ...    9.000000    8.000000    0.000000\n",
              "50%      1.000000    1.000000   17.000000  ...   11.000000   11.000000    1.000000\n",
              "75%      1.000000    1.000000   18.000000  ...   13.000000   14.000000    1.000000\n",
              "max      1.000000    1.000000   22.000000  ...   19.000000   20.000000    1.000000\n",
              "\n",
              "[8 rows x 30 columns]"
            ]
          },
          "metadata": {},
          "execution_count": 59
        }
      ]
    },
    {
      "cell_type": "code",
      "metadata": {
        "colab": {
          "base_uri": "https://localhost:8080/"
        },
        "id": "_7H3TIpHavQ9",
        "outputId": "948200da-9cb0-4bcd-bd90-a4f30822edfb"
      },
      "source": [
        "mat.isnull().any()"
      ],
      "execution_count": null,
      "outputs": [
        {
          "output_type": "execute_result",
          "data": {
            "text/plain": [
              "school        False\n",
              "sex           False\n",
              "age           False\n",
              "address       False\n",
              "famsize       False\n",
              "Pstatus       False\n",
              "Medu          False\n",
              "Fedu          False\n",
              "traveltime    False\n",
              "studytime     False\n",
              "failures      False\n",
              "schoolsup     False\n",
              "famsup        False\n",
              "paid          False\n",
              "activities    False\n",
              "nursery       False\n",
              "higher        False\n",
              "internet      False\n",
              "romantic      False\n",
              "famrel        False\n",
              "freetime      False\n",
              "goout         False\n",
              "Dalc          False\n",
              "Walc          False\n",
              "health        False\n",
              "absences      False\n",
              "G1            False\n",
              "G2            False\n",
              "G3            False\n",
              "pass          False\n",
              "dtype: bool"
            ]
          },
          "metadata": {},
          "execution_count": 60
        }
      ]
    },
    {
      "cell_type": "code",
      "metadata": {
        "id": "3g6k4jlna6bW"
      },
      "source": [
        "mat.drop('Walc',axis=1,inplace=True)"
      ],
      "execution_count": null,
      "outputs": []
    },
    {
      "cell_type": "code",
      "metadata": {
        "id": "luNHz591ovQ1"
      },
      "source": [
        "mat.drop('Pstatus',axis=1,inplace=True)"
      ],
      "execution_count": 62,
      "outputs": []
    },
    {
      "cell_type": "code",
      "metadata": {
        "id": "NA3HrJ6So6x3"
      },
      "source": [
        "mat.drop('Fedu',axis=1,inplace=True)"
      ],
      "execution_count": 63,
      "outputs": []
    },
    {
      "cell_type": "code",
      "metadata": {
        "id": "djp5ZLPXpWNq"
      },
      "source": [
        "mat.drop('Medu',axis=1,inplace=True)"
      ],
      "execution_count": 64,
      "outputs": []
    },
    {
      "cell_type": "code",
      "metadata": {
        "id": "yZDldNsgqKPn"
      },
      "source": [
        "mat.drop('paid',axis=1,inplace=True)"
      ],
      "execution_count": 66,
      "outputs": []
    },
    {
      "cell_type": "code",
      "metadata": {
        "id": "u2aTqzsDqXcT"
      },
      "source": [
        "mat.drop('activities',axis=1,inplace=True)"
      ],
      "execution_count": 67,
      "outputs": []
    },
    {
      "cell_type": "code",
      "metadata": {
        "id": "_8h9FI7XrXIE"
      },
      "source": [
        "mat.drop('internet',axis=1,inplace=True)"
      ],
      "execution_count": 70,
      "outputs": []
    },
    {
      "cell_type": "code",
      "metadata": {
        "id": "MasczxkMrfym"
      },
      "source": [
        "mat.drop('romantic',axis=1,inplace=True)"
      ],
      "execution_count": 71,
      "outputs": []
    },
    {
      "cell_type": "code",
      "metadata": {
        "id": "e2pK5DrirrKw"
      },
      "source": [
        "mat.drop('famrel',axis=1,inplace=True)"
      ],
      "execution_count": 72,
      "outputs": []
    },
    {
      "cell_type": "code",
      "metadata": {
        "id": "75MRH4lzr0PI"
      },
      "source": [
        "mat.drop('famsup',axis=1,inplace=True)"
      ],
      "execution_count": 73,
      "outputs": []
    },
    {
      "cell_type": "code",
      "metadata": {
        "id": "aLcmpa9xsACB"
      },
      "source": [
        "mat.drop('schoolsup',axis=1,inplace=True)"
      ],
      "execution_count": 74,
      "outputs": []
    },
    {
      "cell_type": "code",
      "metadata": {
        "colab": {
          "base_uri": "https://localhost:8080/",
          "height": 443
        },
        "id": "-LHKVrZFsMrl",
        "outputId": "5e91c747-b6d3-4d64-c529-4d003990d290"
      },
      "source": [
        "mat"
      ],
      "execution_count": 75,
      "outputs": [
        {
          "output_type": "execute_result",
          "data": {
            "text/html": [
              "<div>\n",
              "<style scoped>\n",
              "    .dataframe tbody tr th:only-of-type {\n",
              "        vertical-align: middle;\n",
              "    }\n",
              "\n",
              "    .dataframe tbody tr th {\n",
              "        vertical-align: top;\n",
              "    }\n",
              "\n",
              "    .dataframe thead th {\n",
              "        text-align: right;\n",
              "    }\n",
              "</style>\n",
              "<table border=\"1\" class=\"dataframe\">\n",
              "  <thead>\n",
              "    <tr style=\"text-align: right;\">\n",
              "      <th></th>\n",
              "      <th>school</th>\n",
              "      <th>sex</th>\n",
              "      <th>age</th>\n",
              "      <th>address</th>\n",
              "      <th>famsize</th>\n",
              "      <th>traveltime</th>\n",
              "      <th>studytime</th>\n",
              "      <th>failures</th>\n",
              "      <th>nursery</th>\n",
              "      <th>higher</th>\n",
              "      <th>freetime</th>\n",
              "      <th>goout</th>\n",
              "      <th>Dalc</th>\n",
              "      <th>health</th>\n",
              "      <th>absences</th>\n",
              "      <th>G1</th>\n",
              "      <th>G2</th>\n",
              "      <th>G3</th>\n",
              "      <th>pass</th>\n",
              "    </tr>\n",
              "  </thead>\n",
              "  <tbody>\n",
              "    <tr>\n",
              "      <th>0</th>\n",
              "      <td>1</td>\n",
              "      <td>1</td>\n",
              "      <td>18</td>\n",
              "      <td>1</td>\n",
              "      <td>0</td>\n",
              "      <td>2</td>\n",
              "      <td>2</td>\n",
              "      <td>0</td>\n",
              "      <td>1</td>\n",
              "      <td>1</td>\n",
              "      <td>3</td>\n",
              "      <td>4</td>\n",
              "      <td>1</td>\n",
              "      <td>3</td>\n",
              "      <td>6</td>\n",
              "      <td>5</td>\n",
              "      <td>6</td>\n",
              "      <td>6</td>\n",
              "      <td>0</td>\n",
              "    </tr>\n",
              "    <tr>\n",
              "      <th>1</th>\n",
              "      <td>1</td>\n",
              "      <td>1</td>\n",
              "      <td>17</td>\n",
              "      <td>1</td>\n",
              "      <td>0</td>\n",
              "      <td>1</td>\n",
              "      <td>2</td>\n",
              "      <td>0</td>\n",
              "      <td>0</td>\n",
              "      <td>1</td>\n",
              "      <td>3</td>\n",
              "      <td>3</td>\n",
              "      <td>1</td>\n",
              "      <td>3</td>\n",
              "      <td>4</td>\n",
              "      <td>5</td>\n",
              "      <td>5</td>\n",
              "      <td>6</td>\n",
              "      <td>0</td>\n",
              "    </tr>\n",
              "    <tr>\n",
              "      <th>2</th>\n",
              "      <td>1</td>\n",
              "      <td>1</td>\n",
              "      <td>15</td>\n",
              "      <td>1</td>\n",
              "      <td>1</td>\n",
              "      <td>1</td>\n",
              "      <td>2</td>\n",
              "      <td>3</td>\n",
              "      <td>1</td>\n",
              "      <td>1</td>\n",
              "      <td>3</td>\n",
              "      <td>2</td>\n",
              "      <td>2</td>\n",
              "      <td>3</td>\n",
              "      <td>10</td>\n",
              "      <td>7</td>\n",
              "      <td>8</td>\n",
              "      <td>10</td>\n",
              "      <td>1</td>\n",
              "    </tr>\n",
              "    <tr>\n",
              "      <th>3</th>\n",
              "      <td>1</td>\n",
              "      <td>1</td>\n",
              "      <td>15</td>\n",
              "      <td>1</td>\n",
              "      <td>0</td>\n",
              "      <td>1</td>\n",
              "      <td>3</td>\n",
              "      <td>0</td>\n",
              "      <td>1</td>\n",
              "      <td>1</td>\n",
              "      <td>2</td>\n",
              "      <td>2</td>\n",
              "      <td>1</td>\n",
              "      <td>5</td>\n",
              "      <td>2</td>\n",
              "      <td>15</td>\n",
              "      <td>14</td>\n",
              "      <td>15</td>\n",
              "      <td>1</td>\n",
              "    </tr>\n",
              "    <tr>\n",
              "      <th>4</th>\n",
              "      <td>1</td>\n",
              "      <td>1</td>\n",
              "      <td>16</td>\n",
              "      <td>1</td>\n",
              "      <td>0</td>\n",
              "      <td>1</td>\n",
              "      <td>2</td>\n",
              "      <td>0</td>\n",
              "      <td>1</td>\n",
              "      <td>1</td>\n",
              "      <td>3</td>\n",
              "      <td>2</td>\n",
              "      <td>1</td>\n",
              "      <td>5</td>\n",
              "      <td>4</td>\n",
              "      <td>6</td>\n",
              "      <td>10</td>\n",
              "      <td>10</td>\n",
              "      <td>1</td>\n",
              "    </tr>\n",
              "    <tr>\n",
              "      <th>...</th>\n",
              "      <td>...</td>\n",
              "      <td>...</td>\n",
              "      <td>...</td>\n",
              "      <td>...</td>\n",
              "      <td>...</td>\n",
              "      <td>...</td>\n",
              "      <td>...</td>\n",
              "      <td>...</td>\n",
              "      <td>...</td>\n",
              "      <td>...</td>\n",
              "      <td>...</td>\n",
              "      <td>...</td>\n",
              "      <td>...</td>\n",
              "      <td>...</td>\n",
              "      <td>...</td>\n",
              "      <td>...</td>\n",
              "      <td>...</td>\n",
              "      <td>...</td>\n",
              "      <td>...</td>\n",
              "    </tr>\n",
              "    <tr>\n",
              "      <th>390</th>\n",
              "      <td>0</td>\n",
              "      <td>0</td>\n",
              "      <td>20</td>\n",
              "      <td>1</td>\n",
              "      <td>1</td>\n",
              "      <td>1</td>\n",
              "      <td>2</td>\n",
              "      <td>2</td>\n",
              "      <td>1</td>\n",
              "      <td>1</td>\n",
              "      <td>5</td>\n",
              "      <td>4</td>\n",
              "      <td>4</td>\n",
              "      <td>4</td>\n",
              "      <td>11</td>\n",
              "      <td>9</td>\n",
              "      <td>9</td>\n",
              "      <td>9</td>\n",
              "      <td>0</td>\n",
              "    </tr>\n",
              "    <tr>\n",
              "      <th>391</th>\n",
              "      <td>0</td>\n",
              "      <td>0</td>\n",
              "      <td>17</td>\n",
              "      <td>1</td>\n",
              "      <td>1</td>\n",
              "      <td>2</td>\n",
              "      <td>1</td>\n",
              "      <td>0</td>\n",
              "      <td>0</td>\n",
              "      <td>1</td>\n",
              "      <td>4</td>\n",
              "      <td>5</td>\n",
              "      <td>3</td>\n",
              "      <td>2</td>\n",
              "      <td>3</td>\n",
              "      <td>14</td>\n",
              "      <td>16</td>\n",
              "      <td>16</td>\n",
              "      <td>1</td>\n",
              "    </tr>\n",
              "    <tr>\n",
              "      <th>392</th>\n",
              "      <td>0</td>\n",
              "      <td>0</td>\n",
              "      <td>21</td>\n",
              "      <td>0</td>\n",
              "      <td>0</td>\n",
              "      <td>1</td>\n",
              "      <td>1</td>\n",
              "      <td>3</td>\n",
              "      <td>0</td>\n",
              "      <td>1</td>\n",
              "      <td>5</td>\n",
              "      <td>3</td>\n",
              "      <td>3</td>\n",
              "      <td>3</td>\n",
              "      <td>3</td>\n",
              "      <td>10</td>\n",
              "      <td>8</td>\n",
              "      <td>7</td>\n",
              "      <td>0</td>\n",
              "    </tr>\n",
              "    <tr>\n",
              "      <th>393</th>\n",
              "      <td>0</td>\n",
              "      <td>0</td>\n",
              "      <td>18</td>\n",
              "      <td>0</td>\n",
              "      <td>1</td>\n",
              "      <td>3</td>\n",
              "      <td>1</td>\n",
              "      <td>0</td>\n",
              "      <td>0</td>\n",
              "      <td>1</td>\n",
              "      <td>4</td>\n",
              "      <td>1</td>\n",
              "      <td>3</td>\n",
              "      <td>5</td>\n",
              "      <td>0</td>\n",
              "      <td>11</td>\n",
              "      <td>12</td>\n",
              "      <td>10</td>\n",
              "      <td>1</td>\n",
              "    </tr>\n",
              "    <tr>\n",
              "      <th>394</th>\n",
              "      <td>0</td>\n",
              "      <td>0</td>\n",
              "      <td>19</td>\n",
              "      <td>1</td>\n",
              "      <td>1</td>\n",
              "      <td>1</td>\n",
              "      <td>1</td>\n",
              "      <td>0</td>\n",
              "      <td>1</td>\n",
              "      <td>1</td>\n",
              "      <td>2</td>\n",
              "      <td>3</td>\n",
              "      <td>3</td>\n",
              "      <td>5</td>\n",
              "      <td>5</td>\n",
              "      <td>8</td>\n",
              "      <td>9</td>\n",
              "      <td>9</td>\n",
              "      <td>0</td>\n",
              "    </tr>\n",
              "  </tbody>\n",
              "</table>\n",
              "<p>395 rows × 19 columns</p>\n",
              "</div>"
            ],
            "text/plain": [
              "     school  sex  age  address  famsize  ...  absences  G1  G2  G3  pass\n",
              "0         1    1   18        1        0  ...         6   5   6   6     0\n",
              "1         1    1   17        1        0  ...         4   5   5   6     0\n",
              "2         1    1   15        1        1  ...        10   7   8  10     1\n",
              "3         1    1   15        1        0  ...         2  15  14  15     1\n",
              "4         1    1   16        1        0  ...         4   6  10  10     1\n",
              "..      ...  ...  ...      ...      ...  ...       ...  ..  ..  ..   ...\n",
              "390       0    0   20        1        1  ...        11   9   9   9     0\n",
              "391       0    0   17        1        1  ...         3  14  16  16     1\n",
              "392       0    0   21        0        0  ...         3  10   8   7     0\n",
              "393       0    0   18        0        1  ...         0  11  12  10     1\n",
              "394       0    0   19        1        1  ...         5   8   9   9     0\n",
              "\n",
              "[395 rows x 19 columns]"
            ]
          },
          "metadata": {},
          "execution_count": 75
        }
      ]
    },
    {
      "cell_type": "markdown",
      "metadata": {
        "id": "n-IexX4XsUxw"
      },
      "source": [
        "SPLITTING"
      ]
    },
    {
      "cell_type": "code",
      "metadata": {
        "id": "UeUKjFLJuGot"
      },
      "source": [
        "x=mat.iloc[1:,15:18].values"
      ],
      "execution_count": null,
      "outputs": []
    },
    {
      "cell_type": "code",
      "metadata": {
        "colab": {
          "base_uri": "https://localhost:8080/",
          "height": 616
        },
        "id": "TdJu7eX9ulQD",
        "outputId": "046764ef-ebac-42a8-931a-6033410f79e5"
      },
      "source": [
        "print(x)\n",
        "print(y)"
      ],
      "execution_count": 79,
      "outputs": [
        {
          "output_type": "stream",
          "name": "stdout",
          "text": [
            "[[ 5  5  6]\n",
            " [ 7  8 10]\n",
            " [15 14 15]\n",
            " ...\n",
            " [10  8  7]\n",
            " [11 12 10]\n",
            " [ 8  9  9]]\n"
          ]
        },
        {
          "output_type": "error",
          "ename": "NameError",
          "evalue": "ignored",
          "traceback": [
            "\u001b[0;31m---------------------------------------------------------------------------\u001b[0m",
            "\u001b[0;31mNameError\u001b[0m                                 Traceback (most recent call last)",
            "\u001b[0;32m<ipython-input-79-5fe5eafd380c>\u001b[0m in \u001b[0;36m<module>\u001b[0;34m()\u001b[0m\n\u001b[1;32m      1\u001b[0m \u001b[0mprint\u001b[0m\u001b[0;34m(\u001b[0m\u001b[0mx\u001b[0m\u001b[0;34m)\u001b[0m\u001b[0;34m\u001b[0m\u001b[0;34m\u001b[0m\u001b[0m\n\u001b[0;32m----> 2\u001b[0;31m \u001b[0mprint\u001b[0m\u001b[0;34m(\u001b[0m\u001b[0my\u001b[0m\u001b[0;34m)\u001b[0m\u001b[0;34m\u001b[0m\u001b[0;34m\u001b[0m\u001b[0m\n\u001b[0m",
            "\u001b[0;31mNameError\u001b[0m: name 'y' is not defined"
          ]
        }
      ]
    },
    {
      "cell_type": "code",
      "metadata": {
        "id": "PH6tK24Yu-b8"
      },
      "source": [
        "y=mat.iloc[1:,18]"
      ],
      "execution_count": 80,
      "outputs": []
    },
    {
      "cell_type": "code",
      "metadata": {
        "id": "JVhhjaQXvUs2"
      },
      "source": [
        "x_train,x_test,y_train,y_test=train_test_split(x,y,test_size=0.2,random_state=2)"
      ],
      "execution_count": 81,
      "outputs": []
    },
    {
      "cell_type": "markdown",
      "metadata": {
        "id": "rJjcTq6Gv9Uz"
      },
      "source": [
        "LOGISTIC REGRESSION INCLUDING FITTING,PREDICTION,ACCURACY"
      ]
    },
    {
      "cell_type": "code",
      "metadata": {
        "id": "F2KU6p2QwO5Z"
      },
      "source": [
        "from sklearn.linear_model import LogisticRegression"
      ],
      "execution_count": 82,
      "outputs": []
    },
    {
      "cell_type": "code",
      "metadata": {
        "colab": {
          "base_uri": "https://localhost:8080/"
        },
        "id": "TwT2oP5QyaKu",
        "outputId": "3803fe69-4e16-47c3-b1c3-d9520936331e"
      },
      "source": [
        "lr=LogisticRegression()\n",
        "lr.fit(x_train,y_train)"
      ],
      "execution_count": 87,
      "outputs": [
        {
          "output_type": "execute_result",
          "data": {
            "text/plain": [
              "LogisticRegression(C=1.0, class_weight=None, dual=False, fit_intercept=True,\n",
              "                   intercept_scaling=1, l1_ratio=None, max_iter=100,\n",
              "                   multi_class='auto', n_jobs=None, penalty='l2',\n",
              "                   random_state=None, solver='lbfgs', tol=0.0001, verbose=0,\n",
              "                   warm_start=False)"
            ]
          },
          "metadata": {},
          "execution_count": 87
        }
      ]
    },
    {
      "cell_type": "code",
      "metadata": {
        "id": "sHC8xMlpyono"
      },
      "source": [
        "y_pred=lr.predict(x_test)"
      ],
      "execution_count": 88,
      "outputs": []
    },
    {
      "cell_type": "code",
      "metadata": {
        "id": "OBoH9uqzzVLW"
      },
      "source": [
        "from sklearn.metrics import confusion_matrix,classification_report,accuracy_score"
      ],
      "execution_count": 90,
      "outputs": []
    },
    {
      "cell_type": "code",
      "metadata": {
        "colab": {
          "base_uri": "https://localhost:8080/"
        },
        "id": "-ELoqcGdzpvX",
        "outputId": "237b25a4-6dba-42a5-89a4-5b4f67c999fa"
      },
      "source": [
        "confusion_matrix(y_test,y_pred)"
      ],
      "execution_count": 91,
      "outputs": [
        {
          "output_type": "execute_result",
          "data": {
            "text/plain": [
              "array([[21,  0],\n",
              "       [ 0, 58]])"
            ]
          },
          "metadata": {},
          "execution_count": 91
        }
      ]
    },
    {
      "cell_type": "code",
      "metadata": {
        "colab": {
          "base_uri": "https://localhost:8080/"
        },
        "id": "Xe1RphhUz0EQ",
        "outputId": "5474f98c-20f6-4a12-d5e8-c5296df71d1a"
      },
      "source": [
        "print(lr.score(x_test,y_test))"
      ],
      "execution_count": 92,
      "outputs": [
        {
          "output_type": "stream",
          "name": "stdout",
          "text": [
            "1.0\n"
          ]
        }
      ]
    },
    {
      "cell_type": "markdown",
      "metadata": {
        "id": "rzFnlMLSz8m7"
      },
      "source": [
        "DECISION TREE CLASSIFIER INCLUDING FITTING  PREDICTION ACCURACY"
      ]
    },
    {
      "cell_type": "code",
      "metadata": {
        "id": "OIucN4LX0Y7T"
      },
      "source": [
        "from sklearn.tree import DecisionTreeClassifier"
      ],
      "execution_count": 93,
      "outputs": []
    },
    {
      "cell_type": "code",
      "metadata": {
        "id": "LOUwFcaw0hTK"
      },
      "source": [
        "dtc=DecisionTreeClassifier()"
      ],
      "execution_count": 94,
      "outputs": []
    },
    {
      "cell_type": "code",
      "metadata": {
        "colab": {
          "base_uri": "https://localhost:8080/"
        },
        "id": "GHgn8Di70m3Y",
        "outputId": "4436ab03-1cbe-4aab-ea2b-1a79126d1355"
      },
      "source": [
        "dtc.fit(x_train,y_train)"
      ],
      "execution_count": 95,
      "outputs": [
        {
          "output_type": "execute_result",
          "data": {
            "text/plain": [
              "DecisionTreeClassifier(ccp_alpha=0.0, class_weight=None, criterion='gini',\n",
              "                       max_depth=None, max_features=None, max_leaf_nodes=None,\n",
              "                       min_impurity_decrease=0.0, min_impurity_split=None,\n",
              "                       min_samples_leaf=1, min_samples_split=2,\n",
              "                       min_weight_fraction_leaf=0.0, presort='deprecated',\n",
              "                       random_state=None, splitter='best')"
            ]
          },
          "metadata": {},
          "execution_count": 95
        }
      ]
    },
    {
      "cell_type": "code",
      "metadata": {
        "id": "lajUdnZB0xvT"
      },
      "source": [
        "y_pred=dtc.predict(x_test)"
      ],
      "execution_count": 96,
      "outputs": []
    },
    {
      "cell_type": "code",
      "metadata": {
        "colab": {
          "base_uri": "https://localhost:8080/"
        },
        "id": "q22N_svi0-By",
        "outputId": "99d64e94-a3d1-46c5-f520-c951d8d1b8a2"
      },
      "source": [
        "y_test.head(),y_pred[0:5]"
      ],
      "execution_count": 97,
      "outputs": [
        {
          "output_type": "execute_result",
          "data": {
            "text/plain": [
              "(95     1\n",
              " 33     1\n",
              " 223    1\n",
              " 316    0\n",
              " 351    1\n",
              " Name: pass, dtype: int64, array([1, 1, 1, 0, 1]))"
            ]
          },
          "metadata": {},
          "execution_count": 97
        }
      ]
    },
    {
      "cell_type": "code",
      "metadata": {
        "colab": {
          "base_uri": "https://localhost:8080/"
        },
        "id": "fIOwNd2o1Rfd",
        "outputId": "d941b685-8372-4dc4-aeb9-63ed6ee17560"
      },
      "source": [
        "accuracy_score(y_test,y_pred)"
      ],
      "execution_count": 98,
      "outputs": [
        {
          "output_type": "execute_result",
          "data": {
            "text/plain": [
              "1.0"
            ]
          },
          "metadata": {},
          "execution_count": 98
        }
      ]
    },
    {
      "cell_type": "markdown",
      "metadata": {
        "id": "uaANPW-B1b8T"
      },
      "source": [
        "LINEAR REGRESSION INCLUDING FITTING,PREDICTION,ACCURACY"
      ]
    },
    {
      "cell_type": "code",
      "metadata": {
        "id": "ts-50gNL1oaW"
      },
      "source": [
        "from sklearn.linear_model import LinearRegression"
      ],
      "execution_count": 99,
      "outputs": []
    },
    {
      "cell_type": "code",
      "metadata": {
        "id": "xFAsNhLY1zef"
      },
      "source": [
        "lr2=LinearRegression()"
      ],
      "execution_count": 100,
      "outputs": []
    },
    {
      "cell_type": "code",
      "metadata": {
        "colab": {
          "base_uri": "https://localhost:8080/"
        },
        "id": "tfKkMYmi15eW",
        "outputId": "f4b545fa-7216-4d9c-f977-7134d9553270"
      },
      "source": [
        "lr2.fit(x_train,y_train)"
      ],
      "execution_count": 101,
      "outputs": [
        {
          "output_type": "execute_result",
          "data": {
            "text/plain": [
              "LinearRegression(copy_X=True, fit_intercept=True, n_jobs=None, normalize=False)"
            ]
          },
          "metadata": {},
          "execution_count": 101
        }
      ]
    },
    {
      "cell_type": "code",
      "metadata": {
        "id": "7ygbM3mG2CIh"
      },
      "source": [
        "y_pred=lr2.predict(x_test)"
      ],
      "execution_count": 102,
      "outputs": []
    },
    {
      "cell_type": "code",
      "metadata": {
        "colab": {
          "base_uri": "https://localhost:8080/"
        },
        "id": "bsv-wLn72JIF",
        "outputId": "c6496d9f-401d-4f32-f9d7-18da3ca21dc1"
      },
      "source": [
        "print(x_test)\n",
        "print(y_pred)"
      ],
      "execution_count": 103,
      "outputs": [
        {
          "output_type": "stream",
          "name": "stdout",
          "text": [
            "[[ 7 10 10]\n",
            " [ 8 10 12]\n",
            " [12 13 13]\n",
            " [ 8  8  0]\n",
            " [13 13 13]\n",
            " [12 12 11]\n",
            " [ 8  9  8]\n",
            " [14 14 14]\n",
            " [17 15 15]\n",
            " [13 13 14]\n",
            " [ 6  5  6]\n",
            " [ 8  8 10]\n",
            " [12 13 12]\n",
            " [13 13 11]\n",
            " [14 14 13]\n",
            " [16 17 17]\n",
            " [ 6  0  0]\n",
            " [15 14 15]\n",
            " [ 7  0  0]\n",
            " [15 14 15]\n",
            " [13 12 12]\n",
            " [13 12 12]\n",
            " [ 7  9  8]\n",
            " [11 12 10]\n",
            " [10 10 10]\n",
            " [ 8 10 10]\n",
            " [12 15 15]\n",
            " [10 11  9]\n",
            " [ 8  9 10]\n",
            " [16 15 15]\n",
            " [14 15 15]\n",
            " [11 11 11]\n",
            " [ 6  9  8]\n",
            " [13 12 12]\n",
            " [16 18 19]\n",
            " [13 10 11]\n",
            " [ 9  9  9]\n",
            " [10 13 13]\n",
            " [10 12 11]\n",
            " [11 11 11]\n",
            " [ 9  9 10]\n",
            " [13 14 14]\n",
            " [16 17 17]\n",
            " [15 15 16]\n",
            " [ 9 11 11]\n",
            " [15 12 14]\n",
            " [ 8  9 10]\n",
            " [12 12 13]\n",
            " [16 15 15]\n",
            " [12 13 14]\n",
            " [10 11 11]\n",
            " [14 13 13]\n",
            " [ 8  7  0]\n",
            " [14 12 13]\n",
            " [13 15 16]\n",
            " [16 16 16]\n",
            " [ 7  6  0]\n",
            " [ 7  5  0]\n",
            " [11 12 13]\n",
            " [17 16 17]\n",
            " [12  0  0]\n",
            " [11 10 10]\n",
            " [11 11 11]\n",
            " [ 6  6  4]\n",
            " [ 5  9  7]\n",
            " [10  8  9]\n",
            " [ 6  5  5]\n",
            " [ 9  8  8]\n",
            " [13 15 15]\n",
            " [15 14 14]\n",
            " [16 16 16]\n",
            " [17 18 18]\n",
            " [19 18 18]\n",
            " [ 8  8  9]\n",
            " [ 9  9  8]\n",
            " [15 15 15]\n",
            " [ 6  5  0]\n",
            " [13 13 12]\n",
            " [13 11 11]]\n",
            "[ 0.57925335  0.71547569  0.87451903 -0.05167779  0.88781527  0.73679449\n",
            "  0.45482505  0.97737301  1.09352322  0.94927832  0.24611269  0.5629527\n",
            "  0.81305598  0.76488917  0.91590996  1.23274997 -0.19665783  1.0521323\n",
            " -0.18336159  1.0521323   0.81155378  0.81155378  0.44152881  0.6620352\n",
            "  0.61914207  0.59254959  1.02704202  0.57247747  0.57775115  1.08022698\n",
            "  1.0536345   0.70869981  0.42823257  0.81155378  1.37047451  0.72049384\n",
            "  0.52958434  0.84792655  0.71020201  0.70869981  0.59104739  0.96407677\n",
            "  1.23274997  1.12839379  0.68210732  0.96107236  0.57775115  0.85972059\n",
            "  1.08022698  0.93598208  0.69540356  0.90111151 -0.06647624  0.88631307\n",
            "  1.10180131  1.15648848 -0.09457092 -0.10936937  0.84642435  1.23124777\n",
            " -0.11688038  0.63243831  0.70869981  0.13798504  0.35347328  0.52808213\n",
            "  0.18464964  0.45332284  1.04033826  0.99066925  1.15648848  1.3223077\n",
            "  1.34890018  0.50148965  0.46812129  1.06693074 -0.12266561  0.82635222\n",
            "  0.73529229]\n"
          ]
        }
      ]
    },
    {
      "cell_type": "code",
      "metadata": {
        "colab": {
          "base_uri": "https://localhost:8080/"
        },
        "id": "bN-xWHwS2SN7",
        "outputId": "10e169ff-31ed-4b45-b3ec-b01cc074d4d5"
      },
      "source": [
        "print(lr2.score(x_test,y_test))"
      ],
      "execution_count": 104,
      "outputs": [
        {
          "output_type": "stream",
          "name": "stdout",
          "text": [
            "0.623947440747775\n"
          ]
        }
      ]
    },
    {
      "cell_type": "markdown",
      "metadata": {
        "id": "MX-hlOST3R80"
      },
      "source": [
        "A BRIEF DESCRIPTION"
      ]
    },
    {
      "cell_type": "markdown",
      "metadata": {
        "id": "Ngswfeob5so1"
      },
      "source": [
        "     Literacy i India is a key for socio-economic progress.Despite government programmes,India's literacy rate increased only \"sluggishly\".The 2011 census,indicated a 2001-2011 decadal literacy growth of 9.2%, which is lower than the growth seen during that previous decade.An old analytical 1990 study estimated that it would take until 2060 for India to achieve universal literacy at then-current rate of progress."
      ]
    },
    {
      "cell_type": "markdown",
      "metadata": {
        "id": "XIcyhk1i7Ka5"
      },
      "source": [
        "In this project ,We implemented EXPLORATORY DATA ANALYSIS,SPLITTING BY USING SKLEARN,APPLYING 3 MACHINE LEARNING MODELS....."
      ]
    },
    {
      "cell_type": "markdown",
      "metadata": {
        "id": "ZYOiujac73H7"
      },
      "source": [
        "1.EXPLORATORY DATA ANALYSIS\n",
        "2.SPLITTING THE DATA\n",
        "3.MAXHINE LEARNING "
      ]
    },
    {
      "cell_type": "markdown",
      "metadata": {
        "id": "Xk4be1Yr8GGa"
      },
      "source": [
        "Here we used 3 machine learning models :"
      ]
    },
    {
      "cell_type": "markdown",
      "metadata": {
        "id": "8gHDxRSq8Sz7"
      },
      "source": [
        "1.LOGISTIC REGRESSION\n",
        "2.DECISION TREE CLASSIFIER\n",
        "3.LINEAR "
      ]
    },
    {
      "cell_type": "markdown",
      "metadata": {
        "id": "whuxBiee8hL3"
      },
      "source": [
        "       when we apply logistic regression model and decision tree classifier model to our dataset it shows 100% accuracy for both models and when we apply linear regression model,it shows 62.3%accuracy.so logistic regression and decision tree classifier are the best machine learning models for our data set to attain accuracy."
      ]
    },
    {
      "cell_type": "code",
      "metadata": {
        "id": "yip2EHxM8gyd"
      },
      "source": [
        ""
      ],
      "execution_count": 104,
      "outputs": []
    }
  ]
}